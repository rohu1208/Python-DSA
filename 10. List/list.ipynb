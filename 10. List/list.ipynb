{
 "cells": [
  {
   "cell_type": "code",
   "execution_count": null,
   "metadata": {},
   "outputs": [
    {
     "name": "stdout",
     "output_type": "stream",
     "text": [
      "[1, 2, 3, 4, 5, 'Rohan', False]\n"
     ]
    }
   ],
   "source": [
    "# List - 13 Feb 2025\n",
    "my_list1=[1,2,3,4,5,\"Rohan\",False]\n",
    "print(my_list1)"
   ]
  },
  {
   "cell_type": "code",
   "execution_count": 3,
   "metadata": {},
   "outputs": [
    {
     "name": "stdout",
     "output_type": "stream",
     "text": [
      "[1, 2, 3, 4, 5, 'Rohan', False]\n"
     ]
    }
   ],
   "source": [
    "# Anotation\n",
    "my_list2: list[int]=[1,2,3,4,5,\"Rohan\",False]\n",
    "print(my_list2)"
   ]
  },
  {
   "cell_type": "code",
   "execution_count": 4,
   "metadata": {},
   "outputs": [
    {
     "name": "stdout",
     "output_type": "stream",
     "text": [
      "[1, 2, 3, 4, 5, 'Rohan', False]\n"
     ]
    },
    {
     "data": {
      "text/plain": [
       "list"
      ]
     },
     "execution_count": 4,
     "metadata": {},
     "output_type": "execute_result"
    }
   ],
   "source": [
    "# another way for anotation\n",
    "from typing import List\n",
    "my_list3: list[int]=[1,2,3,4,5,\"Rohan\",False]\n",
    "print(my_list3)\n",
    "type(my_list3)"
   ]
  },
  {
   "cell_type": "code",
   "execution_count": 5,
   "metadata": {},
   "outputs": [
    {
     "name": "stdout",
     "output_type": "stream",
     "text": [
      "[1, 2, 3, 4, 5, 'Rohan', False]\n"
     ]
    },
    {
     "data": {
      "text/plain": [
       "list"
      ]
     },
     "execution_count": 5,
     "metadata": {},
     "output_type": "execute_result"
    }
   ],
   "source": [
    "from typing import List\n",
    "my_list3: list[int|str]=[1,2,3,4,5,\"Rohan\",False]\n",
    "print(my_list3)\n",
    "type(my_list3)"
   ]
  },
  {
   "cell_type": "code",
   "execution_count": 8,
   "metadata": {},
   "outputs": [
    {
     "name": "stdout",
     "output_type": "stream",
     "text": [
      "5 7 2 4 6 6 8 9 1 3 "
     ]
    }
   ],
   "source": [
    "my_list=[5,7,2,4,6,6,8,9,1,3]\n",
    "for i in my_list:\n",
    "    print(i,end=\" \")"
   ]
  },
  {
   "cell_type": "code",
   "execution_count": null,
   "metadata": {},
   "outputs": [
    {
     "name": "stdout",
     "output_type": "stream",
     "text": [
      "0 1 2 3 4 5 6 7 8 9 "
     ]
    }
   ],
   "source": [
    "my_lis=[5,7,2,4,6,6,8,9,1,3]\n",
    "for i in range(0,len(my_list)):\n",
    "    print(i,end=\" \")"
   ]
  },
  {
   "cell_type": "code",
   "execution_count": 14,
   "metadata": {},
   "outputs": [
    {
     "name": "stdout",
     "output_type": "stream",
     "text": [
      "5 7 2 4 6 6 8 9 1 3 "
     ]
    }
   ],
   "source": [
    "my_lis=[5,7,2,4,6,6,8,9,1,3]\n",
    "for i in range(0,len(my_list)):\n",
    "    print(my_list[i],end=\" \")"
   ]
  },
  {
   "cell_type": "code",
   "execution_count": 15,
   "metadata": {},
   "outputs": [
    {
     "name": "stdout",
     "output_type": "stream",
     "text": [
      "3 1 9 8 6 6 4 2 7 5 "
     ]
    }
   ],
   "source": [
    "# Reverse\n",
    "my_list=[5,7,2,4,6,6,8,9,1,3]\n",
    "for i in range(len(my_list)-1,-1,-1):\n",
    "    print(my_list[i],end=\" \")"
   ]
  },
  {
   "cell_type": "code",
   "execution_count": null,
   "metadata": {},
   "outputs": [
    {
     "name": "stdout",
     "output_type": "stream",
     "text": [
      "5 7 2 4 6 6 8 9 1 3 \n",
      "5 7 2 4 6 6 8 9 1 3 "
     ]
    }
   ],
   "source": [
    "# iterate by index  -- in dsa we only use this\n",
    "my_list=[5,7,2,4,6,6,8,9,1,3]\n",
    "for i in range(0,len(my_list)):\n",
    "    print(my_list[i],end=\" \")\n",
    "# Always use this\n",
    "\n",
    "print()  \n",
    "# iterate by value\n",
    "my_list=[5,7,2,4,6,6,8,9,1,3]\n",
    "for i in my_list:\n",
    "    print(i,end=\" \")"
   ]
  },
  {
   "cell_type": "code",
   "execution_count": 19,
   "metadata": {},
   "outputs": [
    {
     "name": "stdout",
     "output_type": "stream",
     "text": [
      "51\n"
     ]
    }
   ],
   "source": [
    "# Sum of  all numbers\n",
    "my_lst=[5,7,2,4,6,6,8,9,1,3]\n",
    "n= len(my_lst)\n",
    "sum=0\n",
    "for i in range(0,n):\n",
    "    sum=sum+my_lst[i]\n",
    "print(sum)"
   ]
  },
  {
   "cell_type": "code",
   "execution_count": 20,
   "metadata": {},
   "outputs": [
    {
     "name": "stdout",
     "output_type": "stream",
     "text": [
      "2 4 6 6 8 "
     ]
    }
   ],
   "source": [
    "my_lst=[5,7,2,4,6,6,8,9,1,3]\n",
    "for i in range(n):\n",
    "    if my_lst[i]%2==0:\n",
    "        print(my_lst[i],end=\" \")"
   ]
  },
  {
   "cell_type": "code",
   "execution_count": 22,
   "metadata": {},
   "outputs": [
    {
     "name": "stdout",
     "output_type": "stream",
     "text": [
      "5 7 9 "
     ]
    }
   ],
   "source": [
    "# print all prime in list\n",
    "def print_primes(num)->bool:\n",
    "    for i in range(2,num-1):\n",
    "        if num%i==0:\n",
    "            return False\n",
    "        return True\n",
    "\n",
    "my_list=[5,7,2,4,6,6,8,9,1,3]\n",
    "n=len(my_list)\n",
    "for i in range(n):\n",
    "    if print_primes(my_list[i]):\n",
    "        print(my_list[i],end=\" \")"
   ]
  },
  {
   "cell_type": "code",
   "execution_count": 2,
   "metadata": {},
   "outputs": [
    {
     "name": "stdout",
     "output_type": "stream",
     "text": [
      "[3, 5, 105, 7]\n"
     ]
    }
   ],
   "source": [
    "# updating \n",
    "my_lst=[3,5,6,7]\n",
    "my_lst[2]=100\n",
    "my_lst[2]+=5\n",
    "print(my_lst)"
   ]
  },
  {
   "cell_type": "code",
   "execution_count": 3,
   "metadata": {},
   "outputs": [
    {
     "name": "stdout",
     "output_type": "stream",
     "text": [
      "[2, 4, 7, 6]\n"
     ]
    }
   ],
   "source": [
    "# upfate - iterate \n",
    "# even +1 and odd -1\n",
    "my_lst=[3,5,6,7]\n",
    "n=len(my_lst)\n",
    "for i in range(0,n):\n",
    "    if my_lst[i]%2==0:\n",
    "        my_lst[i]+=1\n",
    "    else:\n",
    "        my_lst[i]-=1\n",
    "print(my_lst)"
   ]
  },
  {
   "cell_type": "code",
   "execution_count": 4,
   "metadata": {},
   "outputs": [
    {
     "name": "stdout",
     "output_type": "stream",
     "text": [
      "[3, 3, 8, 5]\n"
     ]
    }
   ],
   "source": [
    "# index even +1 if index is odd\n",
    "for i in range(0,n):\n",
    "    if i%2==0:\n",
    "        my_lst[i]+=1\n",
    "    else:\n",
    "        my_lst[i]-=1\n",
    "print(my_lst)"
   ]
  },
  {
   "cell_type": "code",
   "execution_count": null,
   "metadata": {},
   "outputs": [],
   "source": [
    "# mutable and immutable"
   ]
  },
  {
   "cell_type": "markdown",
   "metadata": {},
   "source": [
    "# mutable and immutable"
   ]
  },
  {
   "cell_type": "markdown",
   "metadata": {},
   "source": []
  },
  {
   "cell_type": "code",
   "execution_count": 5,
   "metadata": {},
   "outputs": [
    {
     "name": "stdout",
     "output_type": "stream",
     "text": [
      "ID(a)=1893178278256\n",
      "ID(a)=1893178278288\n"
     ]
    }
   ],
   "source": [
    "# immutable\n",
    "a=5\n",
    "print(f\"ID(a)={id(a)}\")\n",
    "a+=1\n",
    "print(f\"ID(a)={id(a)}\")"
   ]
  },
  {
   "cell_type": "code",
   "execution_count": 7,
   "metadata": {},
   "outputs": [
    {
     "name": "stdout",
     "output_type": "stream",
     "text": [
      "ID(my_list)=1893257979200\n",
      "[1, 2, 3, 4]\n",
      "ID(my_list)=1893257979200\n",
      "[10, 2, 3, 4]\n"
     ]
    }
   ],
   "source": [
    "# mutable - address is same but value is changed\n",
    "my_list=[1,2,3,4]\n",
    "print(f\"ID(my_list)={id(my_list)}\")\n",
    "print(my_list)\n",
    "my_list[0]=10\n",
    "print(f\"ID(my_list)={id(my_list)}\")\n",
    "print(my_list)"
   ]
  },
  {
   "cell_type": "code",
   "execution_count": 9,
   "metadata": {},
   "outputs": [
    {
     "name": "stdout",
     "output_type": "stream",
     "text": [
      "[1, 2, 3, 4]\n",
      "[100, 2, 3, 4]\n"
     ]
    }
   ],
   "source": [
    "def change(lst):\n",
    "    lst[0]=100\n",
    "\n",
    "my_lst=[1,2,3,4]\n",
    "print(my_lst)\n",
    "change(my_lst)\n",
    "print(my_lst)\n",
    "\n",
    "#pass by value"
   ]
  },
  {
   "cell_type": "code",
   "execution_count": null,
   "metadata": {},
   "outputs": [],
   "source": []
  }
 ],
 "metadata": {
  "kernelspec": {
   "display_name": "Python 3",
   "language": "python",
   "name": "python3"
  },
  "language_info": {
   "codemirror_mode": {
    "name": "ipython",
    "version": 3
   },
   "file_extension": ".py",
   "mimetype": "text/x-python",
   "name": "python",
   "nbconvert_exporter": "python",
   "pygments_lexer": "ipython3",
   "version": "3.10.4"
  }
 },
 "nbformat": 4,
 "nbformat_minor": 2
}
