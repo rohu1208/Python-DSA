{
 "cells": [
  {
   "cell_type": "code",
   "execution_count": 1,
   "metadata": {},
   "outputs": [],
   "source": [
    "# List Easy Assignment"
   ]
  },
  {
   "cell_type": "markdown",
   "metadata": {},
   "source": [
    " Q1. Request the user for the number of elements they would like to \n",
    "include. After that, continue prompting the user for numbers to form a \n",
    "new list"
   ]
  },
  {
   "cell_type": "code",
   "execution_count": 7,
   "metadata": {},
   "outputs": [
    {
     "name": "stdout",
     "output_type": "stream",
     "text": [
      "[1, 2, 3, 4, 5]\n"
     ]
    }
   ],
   "source": [
    "n = int(input(\"Enter Number of Elements\"))\n",
    "lst=[]\n",
    "for i in range(1,n+1):\n",
    "    num = int(input(\"Enter Number\"))\n",
    "    \n",
    "    lst.append(num)\n",
    "print(lst)\n",
    "    "
   ]
  },
  {
   "cell_type": "markdown",
   "metadata": {},
   "source": [
    " Q2. Create your own list of numbers (it should have at least 10 elements, \n",
    "can be duplicate). Create another list which does not contain duplicates."
   ]
  },
  {
   "cell_type": "code",
   "execution_count": 9,
   "metadata": {},
   "outputs": [
    {
     "name": "stdout",
     "output_type": "stream",
     "text": [
      "[1, 4, 2, 5, 6, 3]\n",
      "\n",
      "[1, 2, 3, 4, 5, 6]\n"
     ]
    }
   ],
   "source": [
    "lst=[1,4,2,5,6,2,3,4,6,2,1]\n",
    "result = []\n",
    "for i in lst:\n",
    "    if i not in result:\n",
    "        result.append(i)\n",
    "print(result)\n",
    "\n",
    "####\n",
    "print()\n",
    "#### MEthod 2\n",
    "original_lst=[1,4,2,5,6,2,3,4,6]\n",
    "unique_lst = list(set(lst))\n",
    "print(unique_lst)\n"
   ]
  },
  {
   "cell_type": "markdown",
   "metadata": {},
   "source": [
    "Q3. Ask 10 numbers from the user and put them into the list. Now remove \n",
    "all the even numbers from that list."
   ]
  },
  {
   "cell_type": "code",
   "execution_count": 11,
   "metadata": {},
   "outputs": [
    {
     "name": "stdout",
     "output_type": "stream",
     "text": [
      "[1, 3, 5, 7, 9]\n"
     ]
    }
   ],
   "source": [
    "lst = []\n",
    "result = []\n",
    "for i in range(1,11):\n",
    "    num = int(input(\"Enter Number\"))\n",
    "    lst.append(num)\n",
    "    if num % 2 == 1:\n",
    "        result.append(num)\n",
    "print(result)\n",
    "        "
   ]
  },
  {
   "cell_type": "code",
   "execution_count": 12,
   "metadata": {},
   "outputs": [
    {
     "name": "stdout",
     "output_type": "stream",
     "text": [
      "[3, 5, 1, 33, 45]\n"
     ]
    }
   ],
   "source": [
    "nums = [int(input(f\"Enter number {i+1}: \")) for i in range(10) ]\n",
    "filtered_list = [num for num in nums if num % 2 !=0]\n",
    "print(filtered_list)"
   ]
  },
  {
   "cell_type": "markdown",
   "metadata": {},
   "source": [
    " Q4. Write a program to remove the nth index element from a list using a \n",
    "function. \n"
   ]
  },
  {
   "cell_type": "code",
   "execution_count": 16,
   "metadata": {},
   "outputs": [
    {
     "name": "stdout",
     "output_type": "stream",
     "text": [
      "[2, 1, 21, 3, 43, 1, 3]\n"
     ]
    }
   ],
   "source": [
    "def removeNth(lst,idx):\n",
    "    if idx>len(lst):\n",
    "        return lst\n",
    "    return lst[:idx]+lst[idx+1:]\n",
    "lst= [2,1,3,21,3,43,1,3]\n",
    "print(removeNth(lst, 2))"
   ]
  },
  {
   "cell_type": "code",
   "execution_count": 17,
   "metadata": {},
   "outputs": [
    {
     "name": "stdout",
     "output_type": "stream",
     "text": [
      "[20, 30, 40, 50]\n"
     ]
    }
   ],
   "source": [
    "def remove_nth(lst,n):\n",
    "    if 0<=n<len(lst):\n",
    "        lst.pop(n)\n",
    "    return lst\n",
    "my_list = [10, 20, 30, 40, 50]\n",
    "index_to_remove = int(input(\"Enter index to remove: \"))\n",
    "print(remove_nth(my_list, index_to_remove))"
   ]
  },
  {
   "cell_type": "markdown",
   "metadata": {},
   "source": [
    "Q5. Make two lists of same length and pass it to a function. Return a third \n",
    "list where each element is the sum of index"
   ]
  },
  {
   "cell_type": "code",
   "execution_count": 20,
   "metadata": {},
   "outputs": [
    {
     "name": "stdout",
     "output_type": "stream",
     "text": [
      "[6, 27, 19, 18]\n"
     ]
    }
   ],
   "source": [
    "lst1 = [2,4,5,10]\n",
    "lst2 =[4,23,14,8]\n",
    "lst3=[]\n",
    "def Corr_Sum(lst1,lst2):\n",
    "    for i in range(0,len(lst1)):\n",
    "        lst3.append(lst1[i]+lst2[i])\n",
    "    return lst3\n",
    "print(Corr_Sum(lst1,lst2))"
   ]
  },
  {
   "cell_type": "code",
   "execution_count": 21,
   "metadata": {},
   "outputs": [
    {
     "name": "stdout",
     "output_type": "stream",
     "text": [
      "[11, 22, 33, 44, 55]\n"
     ]
    }
   ],
   "source": [
    "def sum_lists(lst1, lst2):\n",
    "    return [a + b for a, b in zip(lst1, lst2)]\n",
    "\n",
    "list1 = [1, 2, 3, 4, 5]\n",
    "list2 = [10, 20, 30, 40, 50]\n",
    "print(sum_lists(list1, list2))\n"
   ]
  },
  {
   "cell_type": "markdown",
   "metadata": {},
   "source": [
    "Q6. Write a Python Program to find sum and average of List in Python"
   ]
  },
  {
   "cell_type": "code",
   "execution_count": 27,
   "metadata": {},
   "outputs": [
    {
     "name": "stdout",
     "output_type": "stream",
     "text": [
      "150\n",
      "30.0\n"
     ]
    }
   ],
   "source": [
    "lst = [10,20,30,40,50]\n",
    "sum = 0\n",
    "for i in range(len(lst)):\n",
    "    sum = sum+lst[i]\n",
    "avg = sum / len(lst)\n",
    "print(sum)\n",
    "print(avg)"
   ]
  },
  {
   "cell_type": "code",
   "execution_count": 29,
   "metadata": {},
   "outputs": [
    {
     "ename": "TypeError",
     "evalue": "'int' object is not callable",
     "output_type": "error",
     "traceback": [
      "\u001b[1;31m---------------------------------------------------------------------------\u001b[0m",
      "\u001b[1;31mTypeError\u001b[0m                                 Traceback (most recent call last)",
      "Cell \u001b[1;32mIn[29], line 7\u001b[0m\n\u001b[0;32m      4\u001b[0m     \u001b[38;5;28;01mreturn\u001b[39;00m total_sum, avg\n\u001b[0;32m      6\u001b[0m numbers \u001b[38;5;241m=\u001b[39m [\u001b[38;5;241m10\u001b[39m, \u001b[38;5;241m20\u001b[39m, \u001b[38;5;241m30\u001b[39m, \u001b[38;5;241m40\u001b[39m, \u001b[38;5;241m50\u001b[39m]\n\u001b[1;32m----> 7\u001b[0m total, average \u001b[38;5;241m=\u001b[39m sum_and_avg(numbers)\n\u001b[0;32m      8\u001b[0m \u001b[38;5;28mprint\u001b[39m(\u001b[38;5;124mf\u001b[39m\u001b[38;5;124m\"\u001b[39m\u001b[38;5;124mSum: \u001b[39m\u001b[38;5;132;01m{\u001b[39;00mtotal\u001b[38;5;132;01m}\u001b[39;00m\u001b[38;5;124m, Average: \u001b[39m\u001b[38;5;132;01m{\u001b[39;00maverage\u001b[38;5;132;01m}\u001b[39;00m\u001b[38;5;124m\"\u001b[39m)\n",
      "Cell \u001b[1;32mIn[29], line 2\u001b[0m, in \u001b[0;36msum_and_avg\u001b[1;34m(lst)\u001b[0m\n\u001b[0;32m      1\u001b[0m \u001b[38;5;28;01mdef\u001b[39;00m \u001b[38;5;21msum_and_avg\u001b[39m(lst):\n\u001b[1;32m----> 2\u001b[0m     total_sum \u001b[38;5;241m=\u001b[39m \u001b[38;5;28msum\u001b[39m(lst)  \u001b[38;5;66;03m# Use 'total_sum' instead of 'total' to avoid confusion\u001b[39;00m\n\u001b[0;32m      3\u001b[0m     avg \u001b[38;5;241m=\u001b[39m total_sum \u001b[38;5;241m/\u001b[39m \u001b[38;5;28mlen\u001b[39m(lst) \u001b[38;5;28;01mif\u001b[39;00m \u001b[38;5;28mlen\u001b[39m(lst) \u001b[38;5;241m>\u001b[39m \u001b[38;5;241m0\u001b[39m \u001b[38;5;28;01melse\u001b[39;00m \u001b[38;5;241m0\u001b[39m  \u001b[38;5;66;03m# Handle division by zero\u001b[39;00m\n\u001b[0;32m      4\u001b[0m     \u001b[38;5;28;01mreturn\u001b[39;00m total_sum, avg\n",
      "\u001b[1;31mTypeError\u001b[0m: 'int' object is not callable"
     ]
    }
   ],
   "source": [
    "def sum_and_avg(lst):\n",
    "    total_sum = sum(lst)  # Use 'total_sum' instead of 'total' to avoid confusion\n",
    "    avg = total_sum / len(lst) if len(lst) > 0 else 0  # Handle division by zero\n",
    "    return total_sum, avg\n",
    "\n",
    "numbers = [10, 20, 30, 40, 50]\n",
    "total, average = sum_and_avg(numbers)\n",
    "print(f\"Sum: {total}, Average: {average}\")\n"
   ]
  },
  {
   "cell_type": "markdown",
   "metadata": {},
   "source": [
    "Q7. Make a list of your own. Make two more empty list like odd and even. \n",
    "Put all the even numbers from original list to even and odd numbers to \n",
    "odd and print both lists. (Don’t remove anything from original one)"
   ]
  },
  {
   "cell_type": "code",
   "execution_count": 36,
   "metadata": {},
   "outputs": [
    {
     "name": "stdout",
     "output_type": "stream",
     "text": [
      "[10, 2334, 224, 124, 32, 42, 10, 44]\n",
      "[23, 1, 1213, 11, 33, 55]\n"
     ]
    }
   ],
   "source": [
    "lst_all = [10,23,1,2334,224,1213,124,32,42,10,11,33,44,55]\n",
    "lst_even=[]\n",
    "lst_odd=[]\n",
    "for i in range(len(lst_all)):\n",
    "    if lst_all[i]%2==0:\n",
    "        lst_even.append(lst_all[i])\n",
    "    else:\n",
    "        lst_odd.append(lst_all[i])\n",
    "print(lst_even)\n",
    "print(lst_odd)\n",
    "\n"
   ]
  },
  {
   "cell_type": "code",
   "execution_count": 33,
   "metadata": {},
   "outputs": [
    {
     "name": "stdout",
     "output_type": "stream",
     "text": [
      "Even: [2, 4, 6, 8, 10]\n",
      "Odd: [1, 3, 5, 7, 9]\n"
     ]
    }
   ],
   "source": [
    "numbers = [1, 2, 3, 4, 5, 6, 7, 8, 9, 10]\n",
    "even = [num for num in numbers if num % 2 == 0]\n",
    "odd = [num for num in numbers if num % 2 != 0]\n",
    "print(\"Even:\", even)\n",
    "print(\"Odd:\", odd)\n"
   ]
  },
  {
   "cell_type": "code",
   "execution_count": null,
   "metadata": {},
   "outputs": [],
   "source": []
  }
 ],
 "metadata": {
  "kernelspec": {
   "display_name": "Python 3",
   "language": "python",
   "name": "python3"
  },
  "language_info": {
   "codemirror_mode": {
    "name": "ipython",
    "version": 3
   },
   "file_extension": ".py",
   "mimetype": "text/x-python",
   "name": "python",
   "nbconvert_exporter": "python",
   "pygments_lexer": "ipython3",
   "version": "3.11.5"
  }
 },
 "nbformat": 4,
 "nbformat_minor": 2
}
