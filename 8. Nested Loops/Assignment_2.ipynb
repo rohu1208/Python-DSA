{
 "cells": [
  {
   "cell_type": "code",
   "execution_count": 10,
   "metadata": {},
   "outputs": [
    {
     "name": "stdout",
     "output_type": "stream",
     "text": [
      "        * \n",
      "      * * * \n",
      "    * * * * * \n",
      "  * * * * * * * \n"
     ]
    }
   ],
   "source": [
    "for i in range(1,5):\n",
    "    for j in range(1,6-i):\n",
    "        print(' ',end=\" \")\n",
    "    \n",
    "    \n",
    "    for k in range(1,2*i-1+1):\n",
    "        print('*',end=\" \")\n",
    "    print()\n",
    "        "
   ]
  },
  {
   "cell_type": "code",
   "execution_count": 40,
   "metadata": {},
   "outputs": [
    {
     "name": "stdout",
     "output_type": "stream",
     "text": [
      "* * * * * * * * * \n",
      "  * * * * * * * \n",
      "    * * * * * \n",
      "      * * * \n",
      "        * \n"
     ]
    }
   ],
   "source": [
    "# q.2 \n",
    "for i in range(1,6):\n",
    "    for j in range(1,i):\n",
    "        print(\" \",end=\" \")\n",
    "    # print()    \n",
    "    for k in range(1,11-2*i+1):\n",
    "        print(\"*\",end=\" \")\n",
    "    print()"
   ]
  },
  {
   "cell_type": "code",
   "execution_count": 1,
   "metadata": {},
   "outputs": [
    {
     "name": "stdout",
     "output_type": "stream",
     "text": [
      "    *\n",
      "   ***\n",
      "  *****\n",
      " *******\n",
      "*********\n",
      " *******\n",
      "  *****\n",
      "   ***\n",
      "    *\n"
     ]
    }
   ],
   "source": [
    "# Q,3\n",
    "for i in range(1,6):\n",
    "    for j in range(1,5-i+1):\n",
    "        print(' ', end='')\n",
    "    for j in range(1,2*i-1+1):\n",
    "        print('*', end='')\n",
    "    print()\n",
    "for i in range(4,0,-1):\n",
    "    for j in range(1,5-i+1):\n",
    "        print(' ', end='')\n",
    "    for j in range(1,2*i-1+1):\n",
    "        print('*', end='')\n",
    "    print()\n"
   ]
  },
  {
   "cell_type": "code",
   "execution_count": 4,
   "metadata": {},
   "outputs": [
    {
     "name": "stdout",
     "output_type": "stream",
     "text": [
      "    1\n",
      "   123\n",
      "  12345\n",
      " 1234567\n",
      "123456789\n",
      " 1234567\n",
      "  12345\n",
      "   123\n",
      "    1\n"
     ]
    }
   ],
   "source": [
    "# q.4\n",
    "for i in range(1,6):\n",
    "    for j in range(1,5-i+1):\n",
    "        print(\" \",end=\"\")\n",
    "    for k in range(1,2*i-1+1):\n",
    "        print(k,end=\"\")\n",
    "    print()\n",
    "for i in range(4,0,-1):\n",
    "    for j in range(1,5-i+1):\n",
    "        print(\" \",end=\"\")\n",
    "    for k in range(1,2*i-1+1):\n",
    "        print(k,end=\"\")\n",
    "    print()"
   ]
  },
  {
   "cell_type": "code",
   "execution_count": 18,
   "metadata": {},
   "outputs": [
    {
     "name": "stdout",
     "output_type": "stream",
     "text": [
      "******\n",
      "*    *\n",
      "*    *\n",
      "*    *\n",
      "******\n"
     ]
    }
   ],
   "source": [
    "# Q. 5\n",
    "for i in range(1,6):\n",
    "    for j in range(1,7):\n",
    "        \n",
    "        if i==1 or i==5 or j==1 or j==6:\n",
    "            print(\"*\",end=\"\")\n",
    "        else:\n",
    "            print(\" \",end=\"\")\n",
    "            \n",
    "    print()"
   ]
  },
  {
   "cell_type": "code",
   "execution_count": 48,
   "metadata": {},
   "outputs": [
    {
     "name": "stdout",
     "output_type": "stream",
     "text": [
      "12345\n",
      " 1234\n",
      "  123\n",
      "   12\n",
      "    1\n"
     ]
    }
   ],
   "source": [
    "# Q.6\n",
    "for i in range(1,6):\n",
    "    for j in range(2,i+1):\n",
    "        print(' ',end=\"\")\n",
    "    \n",
    "    for k in range(1,7-i):\n",
    "        print(k,end=\"\")\n",
    "    print()"
   ]
  },
  {
   "cell_type": "code",
   "execution_count": 52,
   "metadata": {},
   "outputs": [
    {
     "name": "stdout",
     "output_type": "stream",
     "text": [
      "    1\n",
      "   101\n",
      "  10101\n",
      " 1010101\n",
      "101010101\n"
     ]
    }
   ],
   "source": [
    "for i in range(1,6):\n",
    "    for j in range(1,5-i+1):\n",
    "        print(' ', end='')\n",
    "    for k in range(1,2*i-1+1):\n",
    "        if k%2==0:\n",
    "            print('0', end='')\n",
    "        else:\n",
    "            print('1', end='')\n",
    "    print()"
   ]
  },
  {
   "cell_type": "code",
   "execution_count": 67,
   "metadata": {},
   "outputs": [
    {
     "name": "stdout",
     "output_type": "stream",
     "text": [
      "1 2 3 4 5 \n",
      "2 3 4 5 6 \n",
      "3 4 5 6 7 \n",
      "4 5 6 7 8 \n",
      "5 6 7 8 9 \n"
     ]
    }
   ],
   "source": [
    "for i in range(1,6):\n",
    "    \n",
    "    for j in range(i,5+i):\n",
    "        print(j,end=\" \")\n",
    "        # j+=1\n",
    "        # i+=1\n",
    "    print()"
   ]
  },
  {
   "cell_type": "code",
   "execution_count": 96,
   "metadata": {},
   "outputs": [
    {
     "name": "stdout",
     "output_type": "stream",
     "text": [
      "1 \n",
      "2 3 \n",
      "4 5 6 \n",
      "7 8 9 10 \n",
      "11 12 13 14 15 \n"
     ]
    }
   ],
   "source": [
    "cnt=1\n",
    "for i in range(1,6):\n",
    "    for j in range(1+i,1,-1):\n",
    "        print(cnt, end=\" \")\n",
    "        cnt+=1\n",
    "        \n",
    "    print()"
   ]
  },
  {
   "cell_type": "code",
   "execution_count": 101,
   "metadata": {},
   "outputs": [
    {
     "name": "stdout",
     "output_type": "stream",
     "text": [
      "1 \n",
      "2 3 \n",
      "4 5 6 \n",
      "7 8 9 10 \n",
      "11 12 13 14 15 \n"
     ]
    }
   ],
   "source": [
    "cnt=1\n",
    "\n",
    "for i in range(1,6):\n",
    "    \n",
    "    for j in range(1,i+1):\n",
    "        print(cnt, end=\" \")\n",
    "        cnt+=1\n",
    "    \n",
    "      \n",
    "    print()"
   ]
  },
  {
   "cell_type": "code",
   "execution_count": null,
   "metadata": {},
   "outputs": [
    {
     "ename": "SyntaxError",
     "evalue": "invalid syntax (2558957397.py, line 6)",
     "output_type": "error",
     "traceback": [
      "\u001b[1;36m  Cell \u001b[1;32mIn[107], line 6\u001b[1;36m\u001b[0m\n\u001b[1;33m    print(j,end=for i in range(1,6):\u001b[0m\n\u001b[1;37m                ^\u001b[0m\n\u001b[1;31mSyntaxError\u001b[0m\u001b[1;31m:\u001b[0m invalid syntax\n"
     ]
    }
   ],
   "source": []
  },
  {
   "cell_type": "code",
   "execution_count": 1,
   "metadata": {},
   "outputs": [],
   "source": [
    "# 12 july"
   ]
  },
  {
   "cell_type": "markdown",
   "metadata": {},
   "source": [
    "12 july 2025"
   ]
  },
  {
   "cell_type": "code",
   "execution_count": 2,
   "metadata": {},
   "outputs": [
    {
     "name": "stdout",
     "output_type": "stream",
     "text": [
      "11\n"
     ]
    }
   ],
   "source": [
    "# 12 july return function\n",
    "def add(a,b):\n",
    "    return a+b\n",
    "print(add(5,6))"
   ]
  },
  {
   "cell_type": "code",
   "execution_count": null,
   "metadata": {},
   "outputs": [
    {
     "name": "stdout",
     "output_type": "stream",
     "text": [
      "11\n",
      "None\n"
     ]
    }
   ],
   "source": [
    "# only print 1 time\n",
    "\n",
    "def add(a,b):\n",
    "    total=a+b\n",
    "    print(total)\n",
    "x=add(5,6)\n",
    "print(x)"
   ]
  },
  {
   "cell_type": "code",
   "execution_count": 5,
   "metadata": {},
   "outputs": [
    {
     "name": "stdout",
     "output_type": "stream",
     "text": [
      "6\n"
     ]
    }
   ],
   "source": [
    "# def addition(a: int, b: int, c: int):\n",
    "\n",
    "#     total = a + b + c\n",
    "\n",
    "#     return total\n",
    "\n",
    " \n",
    "\n",
    "def addition(a: int, b: int, c: int) -> int:\n",
    "\n",
    "    total = a + b + c\n",
    "\n",
    "    return total\n",
    "\n",
    " \n",
    "\n",
    "x = addition(1, 2, 3)\n",
    "\n",
    "print(x)\n",
    "\n",
    " \n",
    "\n",
    "# print(addition(1, 2, 3))"
   ]
  },
  {
   "cell_type": "code",
   "execution_count": 7,
   "metadata": {},
   "outputs": [
    {
     "name": "stdout",
     "output_type": "stream",
     "text": [
      "9\n",
      "-1\n",
      "20\n",
      "0.8\n"
     ]
    }
   ],
   "source": [
    "# arithmatic operation\n",
    "def addition(num1: int, num2: int,num3:int) -> int:\n",
    "\n",
    "    return num1 + num2\n",
    "def substraction(num1: int, num2: int,num3:int) -> int:\n",
    "\n",
    "    return num1 - num2\n",
    "def multiplication(num1: int, num2: int,num3:int) -> int:\n",
    "\n",
    "    return num1 * num2\n",
    "def division(num1: int, num2: int,num3:int) -> int:\n",
    "    \n",
    "    return num1 / num2\n",
    "a=int(input(\"Enter the first number: \"))\n",
    "b=int(input(\"Enter the second number: \"))\n",
    "c=int(input(\"Enter the third number: \"))\n",
    "print(addition(a,b,c))\n",
    "print(substraction(a,b,c))\n",
    "print(multiplication(a,b,c))\n",
    "print(division(a,b,c))\n",
    "\n"
   ]
  },
  {
   "cell_type": "code",
   "execution_count": null,
   "metadata": {},
   "outputs": [],
   "source": []
  }
 ],
 "metadata": {
  "kernelspec": {
   "display_name": "Python 3",
   "language": "python",
   "name": "python3"
  },
  "language_info": {
   "codemirror_mode": {
    "name": "ipython",
    "version": 3
   },
   "file_extension": ".py",
   "mimetype": "text/x-python",
   "name": "python",
   "nbconvert_exporter": "python",
   "pygments_lexer": "ipython3",
   "version": "3.10.4"
  }
 },
 "nbformat": 4,
 "nbformat_minor": 2
}
