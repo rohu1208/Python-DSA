{
 "cells": [
  {
   "cell_type": "code",
   "execution_count": 4,
   "metadata": {},
   "outputs": [
    {
     "name": "stdout",
     "output_type": "stream",
     "text": [
      "Name =anirudh, Total=112\n",
      "Name =Hiral, Total=222\n",
      "Name =Rohan, Total=222\n"
     ]
    }
   ],
   "source": [
    "details={\n",
    "    'anirudh':[32,5,6,23,12,34],\n",
    "    'Hiral': [23,54,32,12,56,45],\n",
    "    'Rohan': [23,54,32,12,56,45]\n",
    "    \n",
    "}\n",
    "\n",
    "for name,marks in details.items():\n",
    "    total =0\n",
    "    for mark in marks:\n",
    "        total =total+mark\n",
    "    print(f\"Name ={name}, Total={total}\")"
   ]
  },
  {
   "cell_type": "code",
   "execution_count": 6,
   "metadata": {},
   "outputs": [
    {
     "name": "stdout",
     "output_type": "stream",
     "text": [
      "34\n"
     ]
    }
   ],
   "source": [
    "# Get items \n",
    "print(details[\"anirudh\"][-1])"
   ]
  },
  {
   "cell_type": "code",
   "execution_count": 8,
   "metadata": {},
   "outputs": [
    {
     "name": "stdout",
     "output_type": "stream",
     "text": [
      "{'rohan': [3, 4, 5], 'akash': [3, 4, 5]}\n"
     ]
    }
   ],
   "source": [
    "# Input from user\n",
    "'''\n",
    "Enter Student Name \n",
    "Maths=\n",
    "Science=\n",
    "English=\n",
    "'''\n",
    "# '''\n",
    "details={}\n",
    "for i in range(0,2):\n",
    "    name = input(\"Enter Student Name\")\n",
    "    marks=[]\n",
    "    for j in range(3):\n",
    "        m=int(input(\"Enter Marks\"))\n",
    "        marks.append(m)\n",
    "    details[name]=marks\n",
    "print(details)"
   ]
  },
  {
   "cell_type": "code",
   "execution_count": null,
   "metadata": {},
   "outputs": [],
   "source": []
  }
 ],
 "metadata": {
  "kernelspec": {
   "display_name": "Python 3",
   "language": "python",
   "name": "python3"
  },
  "language_info": {
   "codemirror_mode": {
    "name": "ipython",
    "version": 3
   },
   "file_extension": ".py",
   "mimetype": "text/x-python",
   "name": "python",
   "nbconvert_exporter": "python",
   "pygments_lexer": "ipython3",
   "version": "3.10.4"
  }
 },
 "nbformat": 4,
 "nbformat_minor": 2
}
