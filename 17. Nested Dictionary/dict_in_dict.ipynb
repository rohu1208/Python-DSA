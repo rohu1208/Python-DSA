{
 "cells": [
  {
   "cell_type": "code",
   "execution_count": 3,
   "metadata": {},
   "outputs": [
    {
     "name": "stdout",
     "output_type": "stream",
     "text": [
      "{'maths': 23, 'science': 34, 'english': 45}\n",
      "\n",
      "34\n"
     ]
    }
   ],
   "source": [
    "details={\n",
    "    \"Rohan\":{ \"maths\":12, \"science\":23, \"english\":34},\n",
    "    \"Sohan\":{ \"maths\":23, \"science\":34, \"english\":45},\n",
    "    \"Mohan\":{ \"maths\":34, \"science\":45, \"english\":56}\n",
    "    \n",
    "}\n",
    "print(details[\"Sohan\"])\n",
    "print()\n",
    "print(details[\"Sohan\"][\"science\"])"
   ]
  },
  {
   "cell_type": "code",
   "execution_count": 6,
   "metadata": {},
   "outputs": [
    {
     "name": "stdout",
     "output_type": "stream",
     "text": [
      "Rohan:\n",
      "  maths: 12\n",
      "  science: 23\n",
      "  english: 34\n",
      "Sohan:\n",
      "  maths: 23\n",
      "  science: 34\n",
      "  english: 45\n",
      "Mohan:\n",
      "  maths: 34\n",
      "  science: 45\n",
      "  english: 56\n"
     ]
    }
   ],
   "source": [
    "for name, marks in details.items():\n",
    "    print(f\"{name}:\")\n",
    "    for subject, mark in marks.items():\n",
    "        print(f\"  {subject}: {mark}\")\n",
    "# Marks itself is a dictionary"
   ]
  },
  {
   "cell_type": "code",
   "execution_count": 7,
   "metadata": {},
   "outputs": [
    {
     "name": "stdout",
     "output_type": "stream",
     "text": [
      "Rohan has scored  69 marks\n",
      "Sohan has scored  102 marks\n",
      "Mohan has scored  135 marks\n"
     ]
    }
   ],
   "source": [
    "for name,marks in details.items():\n",
    "    total_marks=0\n",
    "    for sub in marks:\n",
    "        total_marks+=marks[sub]\n",
    "    print(f\"{name} has scored  {total_marks} marks\")\n",
    "        "
   ]
  },
  {
   "cell_type": "code",
   "execution_count": null,
   "metadata": {},
   "outputs": [],
   "source": []
  }
 ],
 "metadata": {
  "kernelspec": {
   "display_name": "Python 3",
   "language": "python",
   "name": "python3"
  },
  "language_info": {
   "codemirror_mode": {
    "name": "ipython",
    "version": 3
   },
   "file_extension": ".py",
   "mimetype": "text/x-python",
   "name": "python",
   "nbconvert_exporter": "python",
   "pygments_lexer": "ipython3",
   "version": "3.10.4"
  }
 },
 "nbformat": 4,
 "nbformat_minor": 2
}
