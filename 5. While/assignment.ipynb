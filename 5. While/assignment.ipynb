{
 "cells": [
  {
   "cell_type": "code",
   "execution_count": 4,
   "metadata": {},
   "outputs": [
    {
     "ename": "ValueError",
     "evalue": "invalid literal for int() with base 10: ''",
     "output_type": "error",
     "traceback": [
      "\u001b[1;31m---------------------------------------------------------------------------\u001b[0m",
      "\u001b[1;31mValueError\u001b[0m                                Traceback (most recent call last)",
      "Cell \u001b[1;32mIn[4], line 10\u001b[0m\n\u001b[0;32m      1\u001b[0m \u001b[38;5;124;03m'''\u001b[39;00m\n\u001b[0;32m      2\u001b[0m \u001b[38;5;124;03mPrint all the numbers divisible by 2, 3 and 5 from start to end. Ask start\u001b[39;00m\n\u001b[0;32m      3\u001b[0m \u001b[38;5;124;03mand end numbers from the user.\u001b[39;00m\n\u001b[1;32m   (...)\u001b[0m\n\u001b[0;32m      8\u001b[0m \u001b[38;5;124;03m30 60 90 120 150\u001b[39;00m\n\u001b[0;32m      9\u001b[0m \u001b[38;5;124;03m'''\u001b[39;00m\n\u001b[1;32m---> 10\u001b[0m start\u001b[38;5;241m=\u001b[39m\u001b[38;5;28;43mint\u001b[39;49m\u001b[43m(\u001b[49m\u001b[38;5;28;43minput\u001b[39;49m\u001b[43m(\u001b[49m\u001b[38;5;124;43m'\u001b[39;49m\u001b[38;5;124;43mEnter start\u001b[39;49m\u001b[38;5;124;43m'\u001b[39;49m\u001b[43m)\u001b[49m\u001b[43m)\u001b[49m\n\u001b[0;32m     11\u001b[0m end \u001b[38;5;241m=\u001b[39m \u001b[38;5;28mint\u001b[39m(\u001b[38;5;28minput\u001b[39m(\u001b[38;5;124m'\u001b[39m\u001b[38;5;124mEnter End\u001b[39m\u001b[38;5;124m'\u001b[39m))\n\u001b[0;32m     12\u001b[0m i\u001b[38;5;241m=\u001b[39m start\n",
      "\u001b[1;31mValueError\u001b[0m: invalid literal for int() with base 10: ''"
     ]
    }
   ],
   "source": [
    "'''\n",
    "Print all the numbers divisible by 2, 3 and 5 from start to end. Ask start\n",
    "and end numbers from the user.\n",
    "Example 1:\n",
    "Enter start = 5\n",
    "Enter end = 177\n",
    "Output:\n",
    "30 60 90 120 150\n",
    "'''\n",
    "start=int(input('Enter start'))\n",
    "end = int(input('Enter End'))\n",
    "i= start\n",
    "while i<=n and i%2==0 and i%3==0 and i%5==0:\n",
    "    print(i)\n",
    "    i=i+1\n",
    "\n"
   ]
  },
  {
   "cell_type": "code",
   "execution_count": 1,
   "metadata": {},
   "outputs": [
    {
     "ename": "ValueError",
     "evalue": "invalid literal for int() with base 10: ''",
     "output_type": "error",
     "traceback": [
      "\u001b[1;31m---------------------------------------------------------------------------\u001b[0m",
      "\u001b[1;31mValueError\u001b[0m                                Traceback (most recent call last)",
      "Cell \u001b[1;32mIn[1], line 1\u001b[0m\n\u001b[1;32m----> 1\u001b[0m start \u001b[38;5;241m=\u001b[39m \u001b[38;5;28mint\u001b[39m(\u001b[38;5;28minput\u001b[39m(\u001b[38;5;124m'\u001b[39m\u001b[38;5;124mEnter start: \u001b[39m\u001b[38;5;124m'\u001b[39m))\n\u001b[0;32m      2\u001b[0m end \u001b[38;5;241m=\u001b[39m \u001b[38;5;28mint\u001b[39m(\u001b[38;5;28minput\u001b[39m(\u001b[38;5;124m'\u001b[39m\u001b[38;5;124mEnter End: \u001b[39m\u001b[38;5;124m'\u001b[39m))\n\u001b[0;32m      3\u001b[0m i \u001b[38;5;241m=\u001b[39m start\n",
      "\u001b[1;31mValueError\u001b[0m: invalid literal for int() with base 10: ''"
     ]
    }
   ],
   "source": [
    "start = int(input('Enter start: '))\n",
    "end = int(input('Enter End: '))\n",
    "i = start\n",
    "\n",
    "while i <= end:  # Use 'end' instead of 'n'\n",
    "    if i % 2 == 0 and i % 3 == 0 and i % 5 == 0:  # Condition check inside the loop\n",
    "        print(i)\n",
    "    i += 1\n"
   ]
  },
  {
   "cell_type": "code",
   "execution_count": 1,
   "metadata": {},
   "outputs": [
    {
     "name": "stdout",
     "output_type": "stream",
     "text": [
      "hi\n"
     ]
    }
   ],
   "source": []
  },
  {
   "cell_type": "code",
   "execution_count": 3,
   "metadata": {},
   "outputs": [
    {
     "name": "stdout",
     "output_type": "stream",
     "text": [
      "1 2 3 4 5 6 "
     ]
    }
   ],
   "source": [
    "'''\n",
    "Q.1. Ask a positive number from user. Print from 1 to n. \n",
    "Example 1:\n",
    " Enter a number = 6\n",
    " Output:\n",
    " 1 2 3 4 5 6\n",
    "'''\n",
    "n = int(input('Enter a Number: '))\n",
    "i = 1\n",
    "while i <=n:\n",
    "    print(i,end=\" \")\n",
    "    i+=1"
   ]
  },
  {
   "cell_type": "code",
   "execution_count": 6,
   "metadata": {},
   "outputs": [
    {
     "name": "stdout",
     "output_type": "stream",
     "text": [
      "21\n"
     ]
    }
   ],
   "source": [
    "'''\n",
    "Q2. Ask a positive number from user. Calculate the total sum of all the \n",
    "numbers from 1 to n. \n",
    "Example 1:\n",
    " Enter a number = 6\n",
    " Output:\n",
    " 21\n",
    " '''\n",
    "n = int(input(\"Enter Number : \"))\n",
    "i = 1\n",
    "sum = 0\n",
    "while i<=n: \n",
    "    sum = sum +i\n",
    "    i+=1\n",
    "print(sum)"
   ]
  },
  {
   "cell_type": "code",
   "execution_count": 7,
   "metadata": {},
   "outputs": [
    {
     "name": "stdout",
     "output_type": "stream",
     "text": [
      "45\n"
     ]
    }
   ],
   "source": [
    "# Ask a start number and end number from user. Calculate the total sum \n",
    "# of all the numbers from start to end. \n",
    "# Example 1:\n",
    "#  Enter start = 5\n",
    "#  Enter end = 10\n",
    "# Output:\n",
    "#  45\n",
    "start = int(input(\"Enter start = \"))\n",
    "end = int(input(\"Enter end = \"))\n",
    "sum = 0\n",
    "while start<=end:\n",
    "    sum = sum +start\n",
    "    start = start + 1\n",
    "print(sum)"
   ]
  },
  {
   "cell_type": "code",
   "execution_count": 9,
   "metadata": {},
   "outputs": [
    {
     "name": "stdout",
     "output_type": "stream",
     "text": [
      "6 5 4 3 2 1 "
     ]
    }
   ],
   "source": [
    "#  Print from n to 1\n",
    "n = int(input(\"Enter n = \"))\n",
    "i = n\n",
    "while i!=0:\n",
    "    print(i,end=' ')\n",
    "    i= i-1\n"
   ]
  },
  {
   "cell_type": "code",
   "execution_count": 15,
   "metadata": {},
   "outputs": [
    {
     "name": "stdout",
     "output_type": "stream",
     "text": [
      "6 5 4 3 2 1 0 -1 -2 -3 -4 -5 -6 "
     ]
    }
   ],
   "source": [
    "# Ask a positive number from user. Print from n to -n. \n",
    "# Example 1:\n",
    "#  Enter a number = 6\n",
    "#  Output:\n",
    "#  6 5 4 3 2 1 0 -1 -2 -3 -4 -5 -6\n",
    "n = int(input(\"Enter n = \"))\n",
    "i = n\n",
    "while i!=0-n-1:\n",
    "    print(n, end=\" \")\n",
    "    n -= 1"
   ]
  },
  {
   "cell_type": "code",
   "execution_count": 16,
   "metadata": {},
   "outputs": [
    {
     "name": "stdout",
     "output_type": "stream",
     "text": [
      "30 is divisible by 2,3 and 5\n",
      "60 is divisible by 2,3 and 5\n",
      "90 is divisible by 2,3 and 5\n",
      "120 is divisible by 2,3 and 5\n",
      "150 is divisible by 2,3 and 5\n"
     ]
    }
   ],
   "source": [
    "#  Q6. Print all the numbers divisible by 2, 3 and 5 from start to end. Ask start \n",
    "# and end numbers from the user.\n",
    "#  Example 1:\n",
    "#  Enter start = 5\n",
    "#  Enter end = 177\n",
    "#  Output:\n",
    "#  30 60 90 120 150\n",
    "start= int(input('Start = '))\n",
    "end= int(input('End = '))\n",
    "i = start\n",
    "while i <= end:\n",
    "    if i%2==0 and i%3==0 and i%5==0:\n",
    "        print(i,\"is divisible by 2,3 and 5\")\n",
    "    i+=1\n"
   ]
  },
  {
   "cell_type": "code",
   "execution_count": 17,
   "metadata": {},
   "outputs": [
    {
     "name": "stdout",
     "output_type": "stream",
     "text": [
      "13 x 1 = 13\n",
      "13 x 2 = 26\n",
      "13 x 3 = 39\n",
      "13 x 4 = 52\n",
      "13 x 5 = 65\n",
      "13 x 6 = 78\n",
      "13 x 7 = 91\n",
      "13 x 8 = 104\n",
      "13 x 9 = 117\n",
      "13 x 10 = 130\n"
     ]
    }
   ],
   "source": [
    "'''Ask a number from user. Print the multiplication table of that number'''\n",
    "n = int(input(\"Number = \"))\n",
    "i = 1\n",
    "while i <= 10:\n",
    "    print(n, 'x', i,'=',n*i)\n",
    "    i += 1"
   ]
  },
  {
   "cell_type": "code",
   "execution_count": 18,
   "metadata": {},
   "outputs": [
    {
     "name": "stdout",
     "output_type": "stream",
     "text": [
      "52 65 78 91 104 117 130 143 156 169 182 "
     ]
    }
   ],
   "source": [
    "#  Q8. Ask a start number and end number from user. Ask another number n \n",
    "# from the user. Print all the numbers from start to end divisible by n.\n",
    "#  Example 1:\n",
    "#  Enter start = 50\n",
    "#  Enter end = 192\n",
    "#  Enter n = 13\n",
    "#  Output:\n",
    "#  52 65 78 91 104 117 130 143 156 169 182\n",
    "start = int(input(\"start=\"))\n",
    "end = int(input(\"End=\"))\n",
    "n = int(input(\"Enter n=\"))\n",
    "i = start\n",
    "while i<=end:\n",
    "    if i%n==0:\n",
    "        print(i,end=\" \")\n",
    "    i=i+1\n"
   ]
  },
  {
   "cell_type": "code",
   "execution_count": 23,
   "metadata": {},
   "outputs": [
    {
     "name": "stdout",
     "output_type": "stream",
     "text": [
      "Even = 50\n",
      "Odd = 50\n"
     ]
    }
   ],
   "source": [
    "'''\n",
    "Q9. Count the number of odd and even numbers from start to end. Ask \n",
    "start and end number from user.\n",
    " Example 1:\n",
    " Enter start = 1\n",
    " Enter end = 100\n",
    " Output:\n",
    " Even = 50\n",
    " Odd = 50\n",
    "'''\n",
    "\n",
    "\n",
    "start = int(input(\"start=\"))\n",
    "end = int(input(\"End=\"))\n",
    "even = 0\n",
    "odd = 0\n",
    "i= start\n",
    "while i<=end:\n",
    "    if i%2==0:\n",
    "        even=even+1\n",
    "        i+=1\n",
    "    else:\n",
    "        odd=odd+1\n",
    "        i+=1\n",
    "print('Even =',even)\n",
    "print('Odd =',odd)"
   ]
  },
  {
   "cell_type": "code",
   "execution_count": null,
   "metadata": {},
   "outputs": [
    {
     "name": "stdout",
     "output_type": "stream",
     "text": [
      "9 8 7 6 5 4 3 2 1\n"
     ]
    }
   ],
   "source": [
    "''' \n",
    "Q10. Ask two number from user that is start and end. Also start can be \n",
    "greater or smaller than the end number. Print from start to end. See the \n",
    "examples below.\n",
    " Example 1:\n",
    " Enter start = 5\n",
    "Enter end = 10\n",
    " Output:\n",
    " 5 6 7 8 9 10\n",
    " Example 2:\n",
    " Enter start = 9\n",
    " Enter end = 1\n",
    " Output:\n",
    " 1 2 3 4 5 6 7 8 9 \n",
    "Example 3:\n",
    " Enter start = 9\n",
    " Enter end = -3\n",
    " Output:-3 -2 -1 0 1 2 3 4 5 6 7 8 9\n",
    " \n",
    "'''\n",
    "start = int(input('Start = '))\n",
    "end = int(input('end = '))\n",
    "i = start\n",
    "\n",
    "while i!=end:\n",
    "    \n",
    "    if i<end:\n",
    "        print(i,end=\" \")\n",
    "        i+=1\n",
    "    else:\n",
    "        print(i,end=\" \")\n",
    "        i-=1\n",
    "print(i)"
   ]
  },
  {
   "cell_type": "code",
   "execution_count": 48,
   "metadata": {},
   "outputs": [
    {
     "name": "stdout",
     "output_type": "stream",
     "text": [
      "1 2 4 8 16 32 64 128 256 512 "
     ]
    }
   ],
   "source": [
    "''' \n",
    "11. Print the following pattern. Ask n from user.\n",
    " Example 1:\n",
    " Enter n = 6\n",
    " Output:\n",
    " 1 2 4 8 16 32\n",
    " Example 1:\n",
    " Enter n = 10\n",
    " Output:\n",
    " 1 2 4 8 16 32 64 128 256 512\n",
    "'''\n",
    "n= int(input('Enter n ='))\n",
    "value =1\n",
    "count=0\n",
    "\n",
    "while count<n:\n",
    "    print(value,end=' ')\n",
    "    value=value*2\n",
    "    count+=1\n",
    "    \n",
    "    \n"
   ]
  },
  {
   "cell_type": "code",
   "execution_count": null,
   "metadata": {},
   "outputs": [],
   "source": [
    "n= int(input('Enter n ='))\n"
   ]
  }
 ],
 "metadata": {
  "kernelspec": {
   "display_name": "Python 3",
   "language": "python",
   "name": "python3"
  },
  "language_info": {
   "codemirror_mode": {
    "name": "ipython",
    "version": 3
   },
   "file_extension": ".py",
   "mimetype": "text/x-python",
   "name": "python",
   "nbconvert_exporter": "python",
   "pygments_lexer": "ipython3",
   "version": "3.10.4"
  }
 },
 "nbformat": 4,
 "nbformat_minor": 2
}
