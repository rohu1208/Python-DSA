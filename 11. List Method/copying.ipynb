{
 "cells": [
  {
   "cell_type": "code",
   "execution_count": 3,
   "metadata": {},
   "outputs": [
    {
     "name": "stdout",
     "output_type": "stream",
     "text": [
      "a=[43, 67, 4, 3, 24, 6, 778, 9, 64, 32]\n",
      "id(a)=2180071631744\n",
      "b=[43, 67, 4, 3, 24, 6, 778, 9, 64, 32]\n",
      "id(b)=2180071631744\n",
      "a=[100, 67, 4, 3, 24, 6, 778, 9, 64, 32]\n",
      "b=[100, 67, 4, 3, 24, 6, 778, 9, 64, 32]\n"
     ]
    }
   ],
   "source": [
    "a = [43,67,4,3,24,6,778,9,64,32]\n",
    "b=a\n",
    "print(f\"a={a}\")\n",
    "print(f\"id(a)={id(a)}\")\n",
    "print(f\"b={b}\")\n",
    "print(f\"id(b)={id(b)}\")\n",
    "\n",
    "\n",
    "a[0]=100\n",
    "print(f\"a={a}\")\n",
    "print(f\"b={b}\")"
   ]
  },
  {
   "cell_type": "code",
   "execution_count": 4,
   "metadata": {},
   "outputs": [],
   "source": [
    "# a and b ka address same \n",
    "# change in a = change in b\n"
   ]
  },
  {
   "cell_type": "code",
   "execution_count": 5,
   "metadata": {},
   "outputs": [
    {
     "name": "stdout",
     "output_type": "stream",
     "text": [
      "a=[6, 8, 9, 4, 3, 2, 5, 2]\n",
      "id(a)=2180072118400\n",
      "b=[6, 8, 9, 4, 3, 2, 5, 2]\n",
      "id(b)=2180071633856\n"
     ]
    }
   ],
   "source": [
    "# hence \n",
    "# copy used\n",
    "a=[6,8,9,4,3,2,5,2]\n",
    "b=a.copy()\n",
    "print(f\"a={a}\")\n",
    "print(f\"id(a)={id(a)}\")\n",
    "print(f\"b={b}\")\n",
    "print(f\"id(b)={id(b)}\")"
   ]
  },
  {
   "cell_type": "code",
   "execution_count": null,
   "metadata": {},
   "outputs": [],
   "source": [
    "# shallow copy -- change address\n",
    "def shallow_copy(obj):\n",
    "    return obj.copy()\n",
    "# deep copy -- andar ander change address\n",
    "def deep_copy(obj):\n",
    "    return copy.deepcopy(obj)"
   ]
  },
  {
   "cell_type": "code",
   "execution_count": null,
   "metadata": {},
   "outputs": [],
   "source": [
    "from copy import deepcopy\n",
    "a=[43,2,1,[5,6,8,9],23,1]\n",
    "b=deepcopy(a)\n"
   ]
  },
  {
   "cell_type": "code",
   "execution_count": 7,
   "metadata": {},
   "outputs": [
    {
     "name": "stdout",
     "output_type": "stream",
     "text": [
      "a = [43, 1, 3, [5, 6, 7, 5], 4, 3, 45, 65, 6]\n",
      "b = [43, 1, 3, [5, 6, 7, 5], 4, 3, 45, 65, 6]\n",
      "id(a) = 2180070853248\n",
      "id(b) = 2180072115584\n",
      "a = [43, 1, 3, [5, 6, 7, 5], 4, 3, 45, 65, 6]\n",
      "b = [43, 1, 3, [5, 100, 7, 5], 4, 3, 45, 65, 6]\n"
     ]
    }
   ],
   "source": [
    "from copy import deepcopy\n",
    "\n",
    "a = [43, 1, 3, [5, 6, 7, 5], 4, 3, 45, 65, 6]\n",
    "\n",
    " \n",
    "\n",
    "b = deepcopy(a)\n",
    "\n",
    "print(f\"a = {a}\")\n",
    "\n",
    "print(f\"b = {b}\")\n",
    "\n",
    "print(f\"id(a) = {id(a)}\")\n",
    "\n",
    "print(f\"id(b) = {id(b)}\")\n",
    "\n",
    "b[3][1] = 100\n",
    "\n",
    "print(f\"a = {a}\")\n",
    "\n",
    "print(f\"b = {b}\")"
   ]
  },
  {
   "cell_type": "code",
   "execution_count": null,
   "metadata": {},
   "outputs": [],
   "source": []
  }
 ],
 "metadata": {
  "kernelspec": {
   "display_name": "Python 3",
   "language": "python",
   "name": "python3"
  },
  "language_info": {
   "codemirror_mode": {
    "name": "ipython",
    "version": 3
   },
   "file_extension": ".py",
   "mimetype": "text/x-python",
   "name": "python",
   "nbconvert_exporter": "python",
   "pygments_lexer": "ipython3",
   "version": "3.10.4"
  }
 },
 "nbformat": 4,
 "nbformat_minor": 2
}
