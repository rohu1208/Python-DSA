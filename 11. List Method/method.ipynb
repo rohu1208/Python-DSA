{
 "cells": [
  {
   "cell_type": "code",
   "execution_count": 3,
   "metadata": {},
   "outputs": [
    {
     "name": "stdout",
     "output_type": "stream",
     "text": [
      "<class 'list'>\n"
     ]
    }
   ],
   "source": [
    "list1=[4,6,7,8,'rohan']\n",
    "list1.append(9)\n",
    "print(list)"
   ]
  },
  {
   "cell_type": "code",
   "execution_count": 4,
   "metadata": {},
   "outputs": [
    {
     "name": "stdout",
     "output_type": "stream",
     "text": [
      "[4, 6, 7, 1000, 8, 'rohan', 9]\n"
     ]
    }
   ],
   "source": [
    "# #List Methods\n",
    "# #1. append() - Adds an element to the end of the list.\n",
    "# 2. insert\n",
    "list1.insert(3,1000)\n",
    "print(list1)"
   ]
  },
  {
   "cell_type": "code",
   "execution_count": 7,
   "metadata": {},
   "outputs": [
    {
     "name": "stdout",
     "output_type": "stream",
     "text": [
      "original [4, 6, 8, 'rohan', 9]\n",
      "after pop [4, 6, 'rohan', 9]\n",
      "popped value 8\n"
     ]
    }
   ],
   "source": [
    "# 3. pop\n",
    "print(f\"original {list1}\")\n",
    "x=list1.pop(2)\n",
    "print(f\"after pop {list1}\")\n",
    "\n",
    "#pop returns it's value\n",
    "print(f\"popped value {x}\")"
   ]
  },
  {
   "cell_type": "code",
   "execution_count": 8,
   "metadata": {},
   "outputs": [
    {
     "name": "stdout",
     "output_type": "stream",
     "text": [
      "befor [4, 6, 'rohan', 9]\n",
      "[4, 6, 9]\n"
     ]
    }
   ],
   "source": [
    "# 4, Remove - remove by value\n",
    "print(f\"befor {list1}\")\n",
    "list1.remove('rohan')\n",
    "print(list1)  "
   ]
  },
  {
   "cell_type": "code",
   "execution_count": 9,
   "metadata": {},
   "outputs": [],
   "source": [
    "# 5. delete"
   ]
  },
  {
   "cell_type": "code",
   "execution_count": 10,
   "metadata": {},
   "outputs": [],
   "source": [
    "# 6. Clear\n"
   ]
  },
  {
   "cell_type": "code",
   "execution_count": 14,
   "metadata": {},
   "outputs": [
    {
     "name": "stdout",
     "output_type": "stream",
     "text": [
      "[23, 56, 7, 8, 3, 12, 'rohan', False, '45']\n",
      "[23, 56, 7, 8, 3, 12, 'rohan', False, '45', 1, 2, 3, 4]\n"
     ]
    }
   ],
   "source": [
    "# 7.extend\n",
    "list2=[23,56,7,8,3,12,'rohan',False,'45']\n",
    "print(list2)\n",
    "list2.extend([1,2,3,4])\n",
    "print(list2)\n"
   ]
  },
  {
   "cell_type": "code",
   "execution_count": 15,
   "metadata": {},
   "outputs": [
    {
     "name": "stdout",
     "output_type": "stream",
     "text": [
      "['45', False, 'rohan', 12, 3, 8, 7, 56, 23]\n"
     ]
    }
   ],
   "source": [
    "list3=[23,56,7,8,3,12,'rohan',False,'45']\n",
    "list3.reverse()\n",
    "print(list3)"
   ]
  },
  {
   "cell_type": "code",
   "execution_count": null,
   "metadata": {},
   "outputs": [],
   "source": []
  }
 ],
 "metadata": {
  "kernelspec": {
   "display_name": "Python 3",
   "language": "python",
   "name": "python3"
  },
  "language_info": {
   "codemirror_mode": {
    "name": "ipython",
    "version": 3
   },
   "file_extension": ".py",
   "mimetype": "text/x-python",
   "name": "python",
   "nbconvert_exporter": "python",
   "pygments_lexer": "ipython3",
   "version": "3.10.4"
  }
 },
 "nbformat": 4,
 "nbformat_minor": 2
}
