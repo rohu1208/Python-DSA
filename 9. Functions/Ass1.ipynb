{
 "cells": [
  {
   "cell_type": "code",
   "execution_count": 1,
   "metadata": {},
   "outputs": [
    {
     "data": {
      "text/plain": [
       "32.0"
      ]
     },
     "execution_count": 1,
     "metadata": {},
     "output_type": "execute_result"
    }
   ],
   "source": [
    "#  Q1. Write a function named celsius_to_fahrenheit that converts Celsius to \n",
    "# Fahrenheit and prints the result. (Formula: (Celsius * 9/5) + 32 = Fahrenheit)\n",
    "\n",
    "def c_to_f(c):\n",
    "    f = (c*9/5)+32\n",
    "    return f\n",
    "c_to_f(0)"
   ]
  },
  {
   "cell_type": "code",
   "execution_count": 4,
   "metadata": {},
   "outputs": [
    {
     "data": {
      "text/plain": [
       "5"
      ]
     },
     "execution_count": 4,
     "metadata": {},
     "output_type": "execute_result"
    }
   ],
   "source": [
    "def simple_calculator(num1,num2,operator):\n",
    "    if operator=='add':\n",
    "        return num1+num2\n",
    "    elif operator=='subtract':\n",
    "        return num1-num2\n",
    "    elif operator=='multiply':\n",
    "        return num1*num2\n",
    "    elif operator=='divide':\n",
    "        if num2!=0:\n",
    "            return num1/num2\n",
    "        else:\n",
    "            return 'Cannot divide by zero'\n",
    "    else:\n",
    "        return 'Invalid operator'\n",
    "    \n",
    "simple_calculator(2,3,'add')\n",
    "# simple_calculator(2,3,'subtract')\n",
    "# simple_calculator(2,3,'multiply')\n",
    "# simple_calculator(2,3,'divide')"
   ]
  },
  {
   "cell_type": "code",
   "execution_count": 8,
   "metadata": {},
   "outputs": [
    {
     "data": {
      "text/plain": [
       "'Negative'"
      ]
     },
     "execution_count": 8,
     "metadata": {},
     "output_type": "execute_result"
    }
   ],
   "source": [
    "#q.3 \n",
    "def create_num(n):\n",
    "    if n==0:\n",
    "        return \"Zero\"\n",
    "    elif n%2==0:\n",
    "        return \"Positive\"\n",
    "    elif n%2==1:\n",
    "        return \"Negative\"\n",
    "\n",
    "create_num(-7)"
   ]
  },
  {
   "cell_type": "code",
   "execution_count": 5,
   "metadata": {},
   "outputs": [
    {
     "name": "stdout",
     "output_type": "stream",
     "text": [
      "Even\n",
      "Odd\n"
     ]
    }
   ],
   "source": [
    "# Number even odd without using modulo\n",
    "def is_even_odd(num):\n",
    "    if (num //2)*2==num:\n",
    "        return \"Even\"\n",
    "    else:\n",
    "        return \"Odd\"\n",
    "\n",
    "print(is_even_odd(10))  # Output: Even\n",
    "print(is_even_odd(11))  # Output: Odd"
   ]
  },
  {
   "cell_type": "code",
   "execution_count": 6,
   "metadata": {},
   "outputs": [
    {
     "name": "stdout",
     "output_type": "stream",
     "text": [
      "Even\n",
      "Odd\n"
     ]
    }
   ],
   "source": [
    "# Even odd by XoR(^)\n",
    "def is_ev_odd(n):\n",
    "    if (n^1)==n+1:\n",
    "        return \"Even\"\n",
    "    else:\n",
    "        return \"Odd\"\n",
    "    # Test the function\n",
    "print(is_ev_odd(10))  # Expected output: Even\n",
    "print(is_ev_odd(11))  # Expected output: Odd"
   ]
  },
  {
   "cell_type": "code",
   "execution_count": 7,
   "metadata": {},
   "outputs": [
    {
     "name": "stdout",
     "output_type": "stream",
     "text": [
      "Odd\n"
     ]
    }
   ],
   "source": [
    "def is_even(n):\n",
    "    return (n & 1) == 0  # Even if the last bit is 0\n",
    "\n",
    "def is_odd(n):\n",
    "    return (n & 1) == 1  # Odd if the last bit is 1\n",
    "\n",
    "# Example\n",
    "num = 7\n",
    "if is_even(num):\n",
    "    print(\"Even\")\n",
    "else:\n",
    "    print(\"Odd\")\n"
   ]
  },
  {
   "cell_type": "markdown",
   "metadata": {},
   "source": [
    "Q. 5 Write a function named calculate_interest that takes the principal, rate \n",
    "of interest, and time as parameters and prints the simple interest \n",
    "calculated"
   ]
  },
  {
   "cell_type": "code",
   "execution_count": 11,
   "metadata": {},
   "outputs": [
    {
     "data": {
      "text/plain": [
       "'RS.5250.0'"
      ]
     },
     "execution_count": 11,
     "metadata": {},
     "output_type": "execute_result"
    }
   ],
   "source": [
    "def calculate_interest(principal,RoR,time):\n",
    "    SI=(principal*RoR*time)/100\n",
    "    return f\"RS.{SI}\"\n",
    "calculate_interest(50000,3.5,3)"
   ]
  },
  {
   "cell_type": "markdown",
   "metadata": {},
   "source": [
    "Q6. Create a function that takes three numbers as parameters and returns \n",
    "the largest among them. Also if no arguments are passed, make sure the \n",
    "parameters take default value as None and return answer as -1."
   ]
  },
  {
   "cell_type": "code",
   "execution_count": 13,
   "metadata": {},
   "outputs": [
    {
     "name": "stdout",
     "output_type": "stream",
     "text": [
      "3\n",
      "-1\n"
     ]
    }
   ],
   "source": [
    "def largest(a=-1,b=-1,c=-1):\n",
    "    if a>b and a>c:\n",
    "        return a\n",
    "    elif b>a and b>c:\n",
    "        return b\n",
    "    else:\n",
    "        return c\n",
    "print(largest(1,2,3))  # Output: 3\n",
    "print(largest())\n",
    "    "
   ]
  },
  {
   "cell_type": "code",
   "execution_count": 14,
   "metadata": {},
   "outputs": [
    {
     "name": "stdout",
     "output_type": "stream",
     "text": [
      "3\n",
      "2\n",
      "-1\n"
     ]
    }
   ],
   "source": [
    "# by lambda function\n",
    "def large(a=None,b=None,c=None):\n",
    "    if a is None and b is None and c is None:\n",
    "        return -1\n",
    "    return max(filter(lambda x: x is not None,[a,b,c]))\n",
    "print(large(1,2,3))  # Output: 3\n",
    "print(large(1,2))  # Output: 2\n",
    "print(large())"
   ]
  },
  {
   "cell_type": "markdown",
   "metadata": {},
   "source": [
    "Q7. Implement a function that takes two parameters, base and exponent, \n",
    "and returns the result of raising the base to the power of the exponent. "
   ]
  },
  {
   "cell_type": "code",
   "execution_count": 3,
   "metadata": {},
   "outputs": [
    {
     "name": "stdout",
     "output_type": "stream",
     "text": [
      "2 raise to power of 3 is = 8\n"
     ]
    }
   ],
   "source": [
    "def pow_function(base,exponent):\n",
    "    result = base**exponent\n",
    "    return result\n",
    "base_value=2\n",
    "exponent_value=3\n",
    "result_power=pow_function(base_value,exponent_value)\n",
    "print(f\"{base_value} raise to power of {exponent_value} is = {result_power}\")"
   ]
  },
  {
   "cell_type": "code",
   "execution_count": null,
   "metadata": {},
   "outputs": [],
   "source": []
  },
  {
   "cell_type": "markdown",
   "metadata": {},
   "source": [
    "Q8. Ask 3 numbers from user. Make a function which returns the middle of \n",
    "those 3 numbers. Then make a function to check if that middle number is \n",
    "divisible by both 3 and 4. Make 2 functions for reusability. "
   ]
  },
  {
   "cell_type": "code",
   "execution_count": 12,
   "metadata": {},
   "outputs": [
    {
     "name": "stdout",
     "output_type": "stream",
     "text": [
      "The Middle number is7\n",
      "7 is Not divisible by 3 and 4\n"
     ]
    }
   ],
   "source": [
    "def find_middle(a,b,c)->int:\n",
    "    if (a>b and a<c) or (a<b and a>c):\n",
    "        return a\n",
    "    elif (b>a and b<c) or (b<a and b>c):\n",
    "        return b\n",
    "    else:\n",
    "        return c\n",
    "\n",
    "def is_divisible(num):\n",
    "    return num%3 == 0 and num%4==0\n",
    "\n",
    "a=int(input(\"Enter First Number = \"))\n",
    "b=int(input(\"Enter Second Number = \"))\n",
    "c=int(input(\"Enter Third Number = \"))\n",
    "\n",
    "middle_num = find_middle(a,b,c)\n",
    "print(f\"The Middle number is{middle_num}\")\n",
    "\n",
    "# check divisibliliy \n",
    "if is_divisible(middle_num):\n",
    "    print(f\"{middle_num} is divisible by both 3 and 4\")\n",
    "else:\n",
    "    print(f\"{middle_num} is Not divisible by 3 and 4\")"
   ]
  },
  {
   "cell_type": "code",
   "execution_count": 6,
   "metadata": {},
   "outputs": [
    {
     "name": "stdout",
     "output_type": "stream",
     "text": [
      "The middle number is: 7\n",
      "7 is not divisible by both 3 and 4.\n"
     ]
    }
   ],
   "source": [
    "def find_middle(a, b, c):\n",
    "    \"\"\"Returns the middle number of the three given numbers.\"\"\"\n",
    "    return sorted([a, b, c])[1]\n",
    "\n",
    "def is_divisible_by_3_and_4(num):\n",
    "    \"\"\"Checks if the given number is divisible by both 3 and 4.\"\"\"\n",
    "    return num % 3 == 0 and num % 4 == 0\n",
    "\n",
    "# Taking input from the user\n",
    "a = int(input(\"Enter first number: \"))\n",
    "b = int(input(\"Enter second number: \"))\n",
    "c = int(input(\"Enter third number: \"))\n",
    "\n",
    "# Finding the middle number\n",
    "middle_number = find_middle(a, b, c)\n",
    "print(f\"The middle number is: {middle_number}\")\n",
    "\n",
    "# Checking divisibility\n",
    "if is_divisible_by_3_and_4(middle_number):\n",
    "    print(f\"{middle_number} is divisible by both 3 and 4.\")\n",
    "else:\n",
    "    print(f\"{middle_number} is not divisible by both 3 and 4.\")\n"
   ]
  },
  {
   "cell_type": "markdown",
   "metadata": {},
   "source": [
    "Q9. Write a Python program that takes four numbers from the user. \n",
    "Implement a function to find the average of the first three numbers. Then, \n",
    "create another function to check if the average is greater than or equal to \n",
    "the fourth number. Make sure to use these two functions to determine and  \n",
    "print whether the average is greater than or equal to the fourth number or \n",
    "not"
   ]
  },
  {
   "cell_type": "code",
   "execution_count": 17,
   "metadata": {},
   "outputs": [
    {
     "name": "stdout",
     "output_type": "stream",
     "text": [
      "The average is 13.0\n",
      "Yes 15 is greater than 13.0\n"
     ]
    }
   ],
   "source": [
    "def average(a,b,c):\n",
    "    avg=(a+b+c)/3\n",
    "    return avg\n",
    "def is_greater(d,avg):\n",
    "    if d>avg:\n",
    "        return f\"Yes {d} is greater than {avg}\"\n",
    "    else:\n",
    "        return f\"No {d} is not greater than {avg}\"\n",
    "    # Test the functions\n",
    "\n",
    "a = int(input(\"Enter first number: \"))\n",
    "b = int(input(\"Enter second number: \"))\n",
    "c = int(input(\"Enter third number: \"))\n",
    "d = int(input(\"Enter number to check: \"))\n",
    "\n",
    "# Calculate average and check comparison\n",
    "avg = average(a, b, c)\n",
    "print(f\"The average is {avg}\")\n",
    "print(is_greater(d, avg))"
   ]
  },
  {
   "cell_type": "markdown",
   "metadata": {},
   "source": [
    " Q10. Make a list of your own. Print the whole list in reverse using FOR loop \n",
    "and WHILE loop"
   ]
  },
  {
   "cell_type": "code",
   "execution_count": 27,
   "metadata": {},
   "outputs": [
    {
     "name": "stdout",
     "output_type": "stream",
     "text": [
      "12 60 20 30 10 \n",
      "12 60 20 30 10 \n"
     ]
    }
   ],
   "source": [
    "my_list = [10,30,20,60,12]\n",
    "for i in range(len(my_list)-1,-1,-1):\n",
    "    print(my_list[i],end=\" \")\n",
    "\n",
    "print()\n",
    "j=len(my_list)-1 \n",
    "while j>=0:\n",
    "    print(my_list[j],end=\" \")\n",
    "    j-=1\n",
    "print()\n"
   ]
  },
  {
   "cell_type": "markdown",
   "metadata": {},
   "source": [
    " Q11. Make a list of your own. Print all the numbers divisible by 3 and 4 in \n",
    "that list"
   ]
  },
  {
   "cell_type": "code",
   "execution_count": 3,
   "metadata": {},
   "outputs": [
    {
     "name": "stdout",
     "output_type": "stream",
     "text": [
      "Numbers divisible by 3 and 4 are[12, 24, 36]\n"
     ]
    }
   ],
   "source": [
    "arr=[7,2,3,4,6,3,16,33,12,16,20,24,32,36]\n",
    "result = [i for i in arr if i%3==0 and i%4==0]\n",
    "print(f\"Numbers divisible by 3 and 4 are{result}\")    \n",
    "        "
   ]
  },
  {
   "cell_type": "markdown",
   "metadata": {},
   "source": [
    " Q12. Make a list of your own. Count how many numbers are divisible by 5.\n"
   ]
  },
  {
   "cell_type": "code",
   "execution_count": 8,
   "metadata": {},
   "outputs": [
    {
     "data": {
      "text/plain": [
       "3"
      ]
     },
     "execution_count": 8,
     "metadata": {},
     "output_type": "execute_result"
    }
   ],
   "source": [
    "def count_div_by_5(arr):\n",
    "    \"\"\"Count the number of elements in the array that are divisible by 5.\"\"\"\n",
    "    count=0\n",
    "    for i in range(len(arr)):\n",
    "        if arr[i]%5==0:\n",
    "            count+=1\n",
    "    return count\n",
    "arr2=[10,23,45,67,32,54,55]      \n",
    "count_div_by_5(arr2)     "
   ]
  },
  {
   "cell_type": "markdown",
   "metadata": {},
   "source": [
    "Q13. Make a list of your own. Calculate the length of that list without using \n",
    "len() function"
   ]
  },
  {
   "cell_type": "code",
   "execution_count": 10,
   "metadata": {},
   "outputs": [
    {
     "name": "stdout",
     "output_type": "stream",
     "text": [
      "5\n"
     ]
    }
   ],
   "source": [
    "def Length_of_list(arr):\n",
    "    count=0\n",
    "    for _ in arr:\n",
    "        count+=1\n",
    "    return count\n",
    "print(Length_of_list([1,2,3,4,5]))\n",
    "    "
   ]
  },
  {
   "cell_type": "markdown",
   "metadata": {},
   "source": [
    " Q14. Create a function countOddEven that accepts an List of Integers and \n",
    "print how many even and odd numbers are there."
   ]
  },
  {
   "cell_type": "code",
   "execution_count": 12,
   "metadata": {},
   "outputs": [
    {
     "name": "stdout",
     "output_type": "stream",
     "text": [
      "Even Numbers count is = 5\n",
      "Odd Numbers count is = 1\n"
     ]
    }
   ],
   "source": [
    "my_list=[34,12,423,34,54,34]\n",
    "def countodd_even(my_list):\n",
    "    odd_count = 0\n",
    "    even_count = 0\n",
    "    for i in range(len(my_list)):\n",
    "        if my_list[i] % 2 == 0:\n",
    "            even_count += 1\n",
    "        else:\n",
    "            odd_count+=1\n",
    "    print(f\"Even Numbers count is = {even_count}\")\n",
    "    print(f\"Odd Numbers count is = {odd_count}\")\n",
    "    \n",
    "countodd_even(my_list)"
   ]
  },
  {
   "cell_type": "markdown",
   "metadata": {},
   "source": [
    "Q16. Create a function findLargest that accepts an List of Integers and \n",
    "returns the largest number from the list"
   ]
  },
  {
   "cell_type": "code",
   "execution_count": 14,
   "metadata": {},
   "outputs": [
    {
     "name": "stdout",
     "output_type": "stream",
     "text": [
      "The greatest number is: 9\n"
     ]
    }
   ],
   "source": [
    "# def findLargest(arr):\n",
    "#     if len(arr) == 0:\n",
    "#         return None\n",
    "#     else:\n",
    "#         return max(arr)\n",
    "    \n",
    "# ########################################\n",
    "\n",
    "def findLargest(arr):\n",
    "    if len(arr) == 0:\n",
    "        return None\n",
    "    laregst = arr[0]\n",
    "    for i in range(1, len(arr)):\n",
    "        if arr[i] > laregst:\n",
    "            laregst = arr[i]\n",
    "    return laregst\n",
    "\n",
    "\n",
    "numbers = [3, 1, 4, 1, 5, 9, 2, 6, 5, 3, 5]\n",
    "greatest = findLargest(numbers)\n",
    "print(f\"The greatest number is: {greatest}\")        "
   ]
  },
  {
   "cell_type": "markdown",
   "metadata": {},
   "source": [
    "Q17. Create a function findSmallest that accepts an List of Integers and \n",
    "returns the smallest number from the list"
   ]
  },
  {
   "cell_type": "code",
   "execution_count": 19,
   "metadata": {},
   "outputs": [
    {
     "name": "stdout",
     "output_type": "stream",
     "text": [
      "The Smallest number is: 1\n"
     ]
    }
   ],
   "source": [
    "\n",
    "def findSmallest(arr):\n",
    "    if len(arr) == 0:\n",
    "        return None\n",
    "    smallest = arr[0]\n",
    "    for i in range(1, len(arr)):\n",
    "        if arr[i] < smallest:\n",
    "            smallest = arr[i]\n",
    "    return smallest\n",
    "\n",
    "\n",
    "numbers = [3, 1, 4, 1, 5, 9, 2, 6, 5, 3, 5]\n",
    "Smallest = findSmallest(numbers)\n",
    "print(f\"The Smallest number is: {Smallest}\")        "
   ]
  },
  {
   "cell_type": "code",
   "execution_count": null,
   "metadata": {},
   "outputs": [],
   "source": []
  },
  {
   "cell_type": "code",
   "execution_count": null,
   "metadata": {},
   "outputs": [],
   "source": []
  }
 ],
 "metadata": {
  "kernelspec": {
   "display_name": "Python 3",
   "language": "python",
   "name": "python3"
  },
  "language_info": {
   "codemirror_mode": {
    "name": "ipython",
    "version": 3
   },
   "file_extension": ".py",
   "mimetype": "text/x-python",
   "name": "python",
   "nbconvert_exporter": "python",
   "pygments_lexer": "ipython3",
   "version": "3.11.5"
  }
 },
 "nbformat": 4,
 "nbformat_minor": 2
}
