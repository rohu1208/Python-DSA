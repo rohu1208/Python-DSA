{
 "cells": [
  {
   "cell_type": "code",
   "execution_count": null,
   "metadata": {},
   "outputs": [
    {
     "name": "stdout",
     "output_type": "stream",
     "text": [
      "8\n"
     ]
    }
   ],
   "source": [
    "# Parameter vs Arguments\n",
    "# Arguments - values passed in function\n",
    "# Parameter - variables in function definition\n",
    "\n",
    "def addition(a,b):\n",
    "    total = a + b\n",
    "    print(total)\n",
    "addition(5,3) \n"
   ]
  },
  {
   "cell_type": "code",
   "execution_count": 4,
   "metadata": {},
   "outputs": [
    {
     "name": "stdout",
     "output_type": "stream",
     "text": [
      "HiRohan\n",
      "6.8999999999999995\n"
     ]
    }
   ],
   "source": [
    "addition('Hi','Rohan')\n",
    "addition(4.6,2.3)"
   ]
  },
  {
   "cell_type": "code",
   "execution_count": 8,
   "metadata": {},
   "outputs": [
    {
     "name": "stdout",
     "output_type": "stream",
     "text": [
      "RohanKumar\n",
      "8.5\n"
     ]
    }
   ],
   "source": [
    "def addition1(a:int,b:int):  # only for clean code not give any error\n",
    "    total = a + b\n",
    "    print(total)\n",
    "addition1('Rohan','Kumar') \n",
    "addition1(5.4,3.1) \n"
   ]
  },
  {
   "cell_type": "code",
   "execution_count": 12,
   "metadata": {},
   "outputs": [
    {
     "name": "stdout",
     "output_type": "stream",
     "text": [
      "you scored 80 in physics\n",
      "you scored 90 in chemistry\n",
      "you scored 95 in computer\n",
      "you scored 85 in english\n",
      "you scored 75 in hindi\n",
      "Your total is 425\n"
     ]
    }
   ],
   "source": [
    "def total_marks(physics,chemistry,computer,english,hindi):\n",
    "    print(f\"you scored {physics} in physics\")\n",
    "    print(f\"you scored {chemistry} in chemistry\")\n",
    "    print(f\"you scored {computer} in computer\")\n",
    "    print(f\"you scored {english} in english\")\n",
    "    print(f\"you scored {hindi} in hindi\")\n",
    "    total = physics + chemistry + computer + english + hindi\n",
    "    print(f\"Your total is {total}\")\n",
    "\n",
    "# total_marks(80,90,95,85,chemistry=75)  # error\n",
    "total_marks(80,90,95,85,hindi=75)  #named parameter\n",
    "    \n",
    "    # total = physics + chemistry + computer + english + hindi"
   ]
  },
  {
   "cell_type": "code",
   "execution_count": 13,
   "metadata": {},
   "outputs": [
    {
     "name": "stdout",
     "output_type": "stream",
     "text": [
      "Hello World\n"
     ]
    }
   ],
   "source": [
    "# default argument\n",
    "def greet(name = \"World\"):\n",
    "    print(f\"Hello {name}\")\n",
    "greet()"
   ]
  },
  {
   "cell_type": "code",
   "execution_count": 14,
   "metadata": {},
   "outputs": [
    {
     "name": "stdout",
     "output_type": "stream",
     "text": [
      "Hello Rohan, Good Morning\n"
     ]
    }
   ],
   "source": [
    "# default parameter should be at the end\n",
    "def greet1(name, msg = \"Good Morning\"):\n",
    "    print(f\"Hello {name}, {msg}\")\n",
    "greet1(\"Rohan\")"
   ]
  },
  {
   "cell_type": "code",
   "execution_count": 16,
   "metadata": {},
   "outputs": [
    {
     "ename": "TypeError",
     "evalue": "greet2() missing 1 required positional argument: 'name'",
     "output_type": "error",
     "traceback": [
      "\u001b[1;31m---------------------------------------------------------------------------\u001b[0m",
      "\u001b[1;31mTypeError\u001b[0m                                 Traceback (most recent call last)",
      "Cell \u001b[1;32mIn[16], line 4\u001b[0m\n\u001b[0;32m      2\u001b[0m \u001b[38;5;28;01mdef\u001b[39;00m \u001b[38;5;21mgreet2\u001b[39m(name, msg \u001b[38;5;241m=\u001b[39m \u001b[38;5;124m\"\u001b[39m\u001b[38;5;124mGood Morning\u001b[39m\u001b[38;5;124m\"\u001b[39m):\n\u001b[0;32m      3\u001b[0m     \u001b[38;5;28mprint\u001b[39m(\u001b[38;5;124mf\u001b[39m\u001b[38;5;124m\"\u001b[39m\u001b[38;5;124mHello \u001b[39m\u001b[38;5;132;01m{\u001b[39;00mname\u001b[38;5;132;01m}\u001b[39;00m\u001b[38;5;124m, \u001b[39m\u001b[38;5;132;01m{\u001b[39;00mmsg\u001b[38;5;132;01m}\u001b[39;00m\u001b[38;5;124m\"\u001b[39m)\n\u001b[1;32m----> 4\u001b[0m \u001b[43mgreet2\u001b[49m\u001b[43m(\u001b[49m\u001b[43m)\u001b[49m  \u001b[38;5;66;03m# error\u001b[39;00m\n\u001b[0;32m      5\u001b[0m \u001b[38;5;66;03m# name is required parameter\u001b[39;00m\n",
      "\u001b[1;31mTypeError\u001b[0m: greet2() missing 1 required positional argument: 'name'"
     ]
    }
   ],
   "source": [
    "# required parameters\n",
    "def greet2(name, msg = \"Good Morning\"):\n",
    "    print(f\"Hello {name}, {msg}\")\n",
    "greet2()  # error\n",
    "# name is required parameter"
   ]
  },
  {
   "cell_type": "code",
   "execution_count": 23,
   "metadata": {},
   "outputs": [
    {
     "name": "stdout",
     "output_type": "stream",
     "text": [
      "12\n",
      "60\n",
      "-6\n",
      "0.15\n"
     ]
    }
   ],
   "source": [
    "def addition(num1: int, num2: int, num3: int):\n",
    "\n",
    "    print(num1 + num2 + num3)\n",
    "\n",
    " \n",
    "\n",
    "def subtraction(num1: int, num2: int, num3: int):\n",
    "\n",
    "    print(num1 - num2 - num3)\n",
    "\n",
    " \n",
    "\n",
    "def multiply(num1: int, num2: int, num3: int):\n",
    "\n",
    "    print(num1 * num2 * num3)\n",
    "\n",
    " \n",
    "\n",
    "def division(num1: int, num2: int, num3: int):\n",
    "\n",
    "    print(num1 / num2 / num3)\n",
    "\n",
    " \n",
    "\n",
    "a = int(input(\"Enter the number 1 = \"))\n",
    "\n",
    "b = int(input(\"Enter the number 2 = \"))\n",
    "\n",
    "c = int(input(\"Enter the number 3 = \"))\n",
    "\n",
    "addition(a, b, c)\n",
    "\n",
    "multiply(a, b, c)\n",
    "\n",
    "subtraction(a, b, c)\n",
    "\n",
    "division(a, b, c)"
   ]
  },
  {
   "cell_type": "code",
   "execution_count": null,
   "metadata": {},
   "outputs": [],
   "source": []
  },
  {
   "cell_type": "code",
   "execution_count": null,
   "metadata": {},
   "outputs": [],
   "source": []
  },
  {
   "cell_type": "code",
   "execution_count": null,
   "metadata": {},
   "outputs": [],
   "source": []
  },
  {
   "cell_type": "code",
   "execution_count": null,
   "metadata": {},
   "outputs": [],
   "source": []
  },
  {
   "cell_type": "code",
   "execution_count": null,
   "metadata": {},
   "outputs": [],
   "source": []
  },
  {
   "cell_type": "code",
   "execution_count": null,
   "metadata": {},
   "outputs": [],
   "source": []
  },
  {
   "cell_type": "code",
   "execution_count": null,
   "metadata": {},
   "outputs": [],
   "source": []
  },
  {
   "cell_type": "code",
   "execution_count": null,
   "metadata": {},
   "outputs": [],
   "source": []
  },
  {
   "cell_type": "code",
   "execution_count": null,
   "metadata": {},
   "outputs": [
    {
     "name": "stdout",
     "output_type": "stream",
     "text": [
      "True\n"
     ]
    }
   ],
   "source": [
    "# Ask int as parameter return true if that number is prime\n",
    "\n",
    "def is_prime(n):\n",
    "    if n==1:\n",
    "        return False\n",
    "    for i in range(2,int(n**0.5)+1):\n",
    "        if n%i==0:\n",
    "            return False\n",
    "    return True\n",
    "print(is_prime(11))"
   ]
  },
  {
   "cell_type": "code",
   "execution_count": 7,
   "metadata": {},
   "outputs": [
    {
     "name": "stdout",
     "output_type": "stream",
     "text": [
      "5 7\n",
      "2589686104432 2589686104496\n",
      "2589686107472 2589686110672\n",
      "100 7\n"
     ]
    }
   ],
   "source": [
    "# Local vs Global variable\n",
    "# Local variable - declared inside function\n",
    "# Global variable - declared outside function\n",
    "# Accessing global variable inside function using global keyword\n",
    "# Accessing local variable inside function using variable name\n",
    "def change():\n",
    "    global a\n",
    "    a = 100\n",
    "    b = 200\n",
    "    print(id(a), id(b))\n",
    "\n",
    "a = 5\n",
    "b = 7\n",
    "print(a, b)\n",
    "print(id(a), id(b))\n",
    "change()\n",
    "print(a, b)"
   ]
  },
  {
   "cell_type": "code",
   "execution_count": 6,
   "metadata": {},
   "outputs": [
    {
     "name": "stdout",
     "output_type": "stream",
     "text": [
      "5\n"
     ]
    },
    {
     "ename": "UnboundLocalError",
     "evalue": "local variable 'count' referenced before assignment",
     "output_type": "error",
     "traceback": [
      "\u001b[1;31m---------------------------------------------------------------------------\u001b[0m",
      "\u001b[1;31mUnboundLocalError\u001b[0m                         Traceback (most recent call last)",
      "Cell \u001b[1;32mIn[6], line 6\u001b[0m\n\u001b[0;32m      3\u001b[0m     count \u001b[38;5;241m=\u001b[39m count\u001b[38;5;241m+\u001b[39mnum\n\u001b[0;32m      4\u001b[0m     \u001b[38;5;28mprint\u001b[39m(count)\n\u001b[1;32m----> 6\u001b[0m \u001b[43mchange\u001b[49m\u001b[43m(\u001b[49m\u001b[38;5;241;43m5\u001b[39;49m\u001b[43m)\u001b[49m\n\u001b[0;32m      8\u001b[0m count \u001b[38;5;241m=\u001b[39m \u001b[38;5;241m0\u001b[39m\n",
      "Cell \u001b[1;32mIn[6], line 3\u001b[0m, in \u001b[0;36mchange\u001b[1;34m(num)\u001b[0m\n\u001b[0;32m      1\u001b[0m \u001b[38;5;28;01mdef\u001b[39;00m \u001b[38;5;21mchange\u001b[39m(num):\n\u001b[0;32m      2\u001b[0m     \u001b[38;5;28mprint\u001b[39m(num)\n\u001b[1;32m----> 3\u001b[0m     count \u001b[38;5;241m=\u001b[39m \u001b[43mcount\u001b[49m\u001b[38;5;241m+\u001b[39mnum\n\u001b[0;32m      4\u001b[0m     \u001b[38;5;28mprint\u001b[39m(count)\n",
      "\u001b[1;31mUnboundLocalError\u001b[0m: local variable 'count' referenced before assignment"
     ]
    }
   ],
   "source": [
    "def change(num):\n",
    "    print(num)\n",
    "    count = count+num\n",
    "    print(count)\n",
    "\n",
    "change(5)\n",
    "\n",
    "count = 0"
   ]
  },
  {
   "cell_type": "code",
   "execution_count": null,
   "metadata": {},
   "outputs": [],
   "source": []
  }
 ],
 "metadata": {
  "kernelspec": {
   "display_name": "Python 3",
   "language": "python",
   "name": "python3"
  },
  "language_info": {
   "codemirror_mode": {
    "name": "ipython",
    "version": 3
   },
   "file_extension": ".py",
   "mimetype": "text/x-python",
   "name": "python",
   "nbconvert_exporter": "python",
   "pygments_lexer": "ipython3",
   "version": "3.10.4"
  }
 },
 "nbformat": 4,
 "nbformat_minor": 2
}
