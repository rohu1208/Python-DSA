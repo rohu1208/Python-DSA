{
 "cells": [
  {
   "cell_type": "code",
   "execution_count": 4,
   "metadata": {},
   "outputs": [
    {
     "ename": "IndexError",
     "evalue": "list index out of range",
     "output_type": "error",
     "traceback": [
      "\u001b[1;31m---------------------------------------------------------------------------\u001b[0m",
      "\u001b[1;31mIndexError\u001b[0m                                Traceback (most recent call last)",
      "Cell \u001b[1;32mIn[4], line 5\u001b[0m\n\u001b[0;32m      3\u001b[0m n\u001b[38;5;241m=\u001b[39m \u001b[38;5;28mlen\u001b[39m(lst)\n\u001b[0;32m      4\u001b[0m \u001b[38;5;28;01mfor\u001b[39;00m i \u001b[38;5;129;01min\u001b[39;00m \u001b[38;5;28mrange\u001b[39m(\u001b[38;5;241m0\u001b[39m,n):\n\u001b[1;32m----> 5\u001b[0m     \u001b[38;5;28;01mif\u001b[39;00m \u001b[43mlst\u001b[49m\u001b[43m[\u001b[49m\u001b[43mi\u001b[49m\u001b[43m]\u001b[49m\u001b[38;5;241m==\u001b[39m\u001b[38;5;241m4\u001b[39m:\n\u001b[0;32m      6\u001b[0m         lst\u001b[38;5;241m.\u001b[39mpop(i)\n\u001b[0;32m      7\u001b[0m \u001b[38;5;28mprint\u001b[39m(lst)\n",
      "\u001b[1;31mIndexError\u001b[0m: list index out of range"
     ]
    }
   ],
   "source": [
    "#remove an element\n",
    "lst = [4,6,7,8,9,5,4,3,2,2,4,4,4,4,4,5,4,5,3,4]\n",
    "n= len(lst)\n",
    "for i in range(0,n):\n",
    "    if lst[i]==4:\n",
    "        lst.pop(i)\n",
    "print(lst)"
   ]
  },
  {
   "cell_type": "code",
   "execution_count": 5,
   "metadata": {},
   "outputs": [
    {
     "name": "stdout",
     "output_type": "stream",
     "text": [
      "[6, 7, 8, 9, 5, 3, 2, 2, 4, 5, 5, 3]\n"
     ]
    }
   ],
   "source": [
    "# Never change length of List\n",
    "# i.e, never manipuate length \n",
    "# try iterate by value\n",
    "\n",
    "# print(lst)\n",
    "for num in lst:\n",
    "    if num==4:\n",
    "        lst.remove(num) # remove 1st occurance \n",
    "        # of 4\n",
    "print(lst)"
   ]
  },
  {
   "cell_type": "code",
   "execution_count": 6,
   "metadata": {},
   "outputs": [],
   "source": [
    "# this also wrong"
   ]
  },
  {
   "cell_type": "code",
   "execution_count": 7,
   "metadata": {},
   "outputs": [],
   "source": [
    "# i.e, never change the length "
   ]
  },
  {
   "cell_type": "code",
   "execution_count": null,
   "metadata": {},
   "outputs": [],
   "source": []
  },
  {
   "cell_type": "markdown",
   "metadata": {},
   "source": [
    "Right Way\n"
   ]
  },
  {
   "cell_type": "markdown",
   "metadata": {},
   "source": [
    "# never change in length"
   ]
  },
  {
   "cell_type": "markdown",
   "metadata": {},
   "source": [
    "# Right Way"
   ]
  },
  {
   "cell_type": "code",
   "execution_count": 8,
   "metadata": {},
   "outputs": [
    {
     "name": "stdout",
     "output_type": "stream",
     "text": [
      "[3, 5, 6, 32, 2, 5, 7]\n"
     ]
    }
   ],
   "source": [
    "# Extra List\n",
    "\n",
    "lst = [3,4,5,6,4,32,4,4,4,4,4,2,4,5,7,4]\n",
    "result =[]\n",
    "n= len(lst)\n",
    "for i in range(0,n): #O(n)\n",
    "    if lst[i] != 4:  # O(1)\n",
    "        result.append(lst[i]) #O(1)\n",
    "print(result)"
   ]
  },
  {
   "cell_type": "code",
   "execution_count": 9,
   "metadata": {},
   "outputs": [],
   "source": [
    "# if ask to change in Place --\n",
    "# 1st Study Membership Operator\n"
   ]
  },
  {
   "cell_type": "code",
   "execution_count": 2,
   "metadata": {},
   "outputs": [
    {
     "name": "stdout",
     "output_type": "stream",
     "text": [
      "[3, 5, 6, 32, 2, 5, 7]\n"
     ]
    }
   ],
   "source": [
    "# Inplace Solution\n",
    "lst = [3,4,5,6,4,32,4,4,4,4,4,2,4,5,7,4]\n",
    "while True: # n times\n",
    "    if 4 in lst: #O(N)\n",
    "        lst.remove(4) #O(N)\n",
    "    else:\n",
    "        break\n",
    "    # over all O(n^2)\n",
    "print(lst)\n",
    "\n",
    "# but worst case in t.c-- n\n"
   ]
  },
  {
   "cell_type": "code",
   "execution_count": 1,
   "metadata": {},
   "outputs": [],
   "source": [
    "# # Inplace Solution\n",
    "# lst = [3,4,5,6,4,32,4,4,4,4,4,2,4,5,7,4]\n",
    "# while True:\n",
    "#     if 4 in lst:\n",
    "#         lst.remove(4)\n",
    "#     else:\n",
    "#         pass\n",
    "# print(lst)\n"
   ]
  },
  {
   "cell_type": "code",
   "execution_count": 2,
   "metadata": {},
   "outputs": [
    {
     "name": "stdout",
     "output_type": "stream",
     "text": [
      "k\n"
     ]
    }
   ],
   "source": [
    "print('k')"
   ]
  },
  {
   "cell_type": "code",
   "execution_count": 4,
   "metadata": {},
   "outputs": [
    {
     "name": "stdout",
     "output_type": "stream",
     "text": [
      "[3, 4, 5, 2, 63, 1, 6]\n"
     ]
    }
   ],
   "source": [
    "# Remove Duplicates\n",
    "lst = [3,4,5,2,4,63,2,5,3,1,4,6,3,2]\n",
    "result = []\n",
    "\n",
    "for i in range(0,len(lst)): #O(n)\n",
    "    if lst[i] not in result: #O(n)\n",
    "        result.append(lst[i])\n",
    "print(result) \n",
    "\n",
    "#(O**2)"
   ]
  },
  {
   "cell_type": "code",
   "execution_count": null,
   "metadata": {},
   "outputs": [],
   "source": []
  }
 ],
 "metadata": {
  "kernelspec": {
   "display_name": "Python 3",
   "language": "python",
   "name": "python3"
  },
  "language_info": {
   "codemirror_mode": {
    "name": "ipython",
    "version": 3
   },
   "file_extension": ".py",
   "mimetype": "text/x-python",
   "name": "python",
   "nbconvert_exporter": "python",
   "pygments_lexer": "ipython3",
   "version": "3.10.4"
  }
 },
 "nbformat": 4,
 "nbformat_minor": 2
}
