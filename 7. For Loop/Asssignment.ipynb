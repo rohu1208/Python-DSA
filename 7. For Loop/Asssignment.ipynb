{
 "cells": [
  {
   "cell_type": "code",
   "execution_count": 4,
   "metadata": {},
   "outputs": [
    {
     "name": "stdout",
     "output_type": "stream",
     "text": [
      "120\n"
     ]
    }
   ],
   "source": [
    "''' \n",
    "Q1. Factorial of a Number: Write a program to calculate the factorial of a \n",
    "given number using a loop.\n",
    " Example:\n",
    " Enter a number = 5\n",
    " Output:\n",
    " 120'''\n",
    "\n",
    "n = int(input('Enter N='))\n",
    "fact =1\n",
    "for i in range(1,n+1):\n",
    "    fact = fact*i\n",
    "print(fact)\n"
   ]
  },
  {
   "cell_type": "code",
   "execution_count": 7,
   "metadata": {},
   "outputs": [
    {
     "name": "stdout",
     "output_type": "stream",
     "text": [
      "1 2 4 5 10 20\n"
     ]
    }
   ],
   "source": [
    "# Q.2 Factors of Number \n",
    "\n",
    "# BETTER SOLUTION \n",
    "n = int(input('Enter N='))\n",
    "for i in range(1,n//2 +1):\n",
    "    if n % i == 0:\n",
    "        print(i,end=' ')\n",
    "print(n)"
   ]
  },
  {
   "cell_type": "code",
   "execution_count": 1,
   "metadata": {},
   "outputs": [
    {
     "name": "stdout",
     "output_type": "stream",
     "text": [
      "1 36 2 18 3 12 4 9 6 "
     ]
    }
   ],
   "source": [
    "# Q.2 Factors of Number \n",
    "\n",
    "# BEST SOLUTION \n",
    "n = int(input('Enter N='))\n",
    "for i in range(1,int(n**0.5) +1):\n",
    "    if n % i == 0:\n",
    "        print(i,end=' ')\n",
    "        if i != n//i: #Avoid Duplication\n",
    "            print(n//i,end=' ')\n",
    "            \n"
   ]
  },
  {
   "cell_type": "code",
   "execution_count": null,
   "metadata": {},
   "outputs": [
    {
     "name": "stdout",
     "output_type": "stream",
     "text": [
      "6\n"
     ]
    }
   ],
   "source": [
    "# Q.3 Count No. of factors\n",
    "n = int(input('Enter N='))\n",
    "count = 0\n",
    "for i in range(1, n + 1):\n",
    "    if n % i == 0:\n",
    "        # print(i,end=' ')\n",
    "        if i != n//i: #Avoid Duplication\n",
    "            # print(n//i,end=' ')\n",
    "            count+=1\n",
    "\n",
    "print(count)"
   ]
  },
  {
   "cell_type": "code",
   "execution_count": null,
   "metadata": {},
   "outputs": [],
   "source": [
    "# Q.4 sum of all the factors of that number"
   ]
  }
 ],
 "metadata": {
  "kernelspec": {
   "display_name": "Python 3",
   "language": "python",
   "name": "python3"
  },
  "language_info": {
   "codemirror_mode": {
    "name": "ipython",
    "version": 3
   },
   "file_extension": ".py",
   "mimetype": "text/x-python",
   "name": "python",
   "nbconvert_exporter": "python",
   "pygments_lexer": "ipython3",
   "version": "3.10.4"
  }
 },
 "nbformat": 4,
 "nbformat_minor": 2
}
