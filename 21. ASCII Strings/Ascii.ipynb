{
 "cells": [
  {
   "cell_type": "code",
   "execution_count": null,
   "metadata": {},
   "outputs": [],
   "source": [
    "s= 'RoHan ^* KAItake'\n",
    "lower_case=0\n",
    "upper_case=0\n",
    "\n",
    "for ch in s:\n",
    "    ascii_code = ord(ch)\n",
    "    "
   ]
  },
  {
   "cell_type": "code",
   "execution_count": 1,
   "metadata": {},
   "outputs": [
    {
     "name": "stdout",
     "output_type": "stream",
     "text": [
      "Lower case = 7\n",
      "Upper case = 7\n"
     ]
    }
   ],
   "source": [
    "s = \"ANIruDh ^* KHUrana\"\n",
    "\n",
    "lowercase_count = 0\n",
    "\n",
    "uppercase_count = 0\n",
    "\n",
    "for ch in s:\n",
    "\n",
    "    ascii_code = ord(ch)\n",
    "\n",
    "    if ascii_code >= 97 and ascii_code <= 122:\n",
    "\n",
    "        lowercase_count += 1\n",
    "\n",
    "    elif ascii_code >= 65 and ascii_code <= 90:\n",
    "\n",
    "        uppercase_count += 1\n",
    "\n",
    "print(f\"Lower case = {lowercase_count}\")\n",
    "\n",
    "print(f\"Upper case = {uppercase_count}\")"
   ]
  },
  {
   "cell_type": "code",
   "execution_count": 3,
   "metadata": {},
   "outputs": [
    {
     "name": "stdout",
     "output_type": "stream",
     "text": [
      "Lower Case =7\n",
      "Upper Case =1\n",
      "Digit Count =4\n",
      "Space Count =3\n",
      "Symbol Count =0\n"
     ]
    }
   ],
   "source": [
    "'''ask\n",
    "input\n",
    "uppercase count \n",
    "lower case count \n",
    "digit\n",
    "space\n",
    "symbol\n",
    "'''\n",
    "s=\"I love you 3000\"\n",
    "upper_case = 0\n",
    "lower_case = 0\n",
    "digit_count = 0\n",
    "space_count = 0\n",
    "symbol_count = 0\n",
    "for ch in s:\n",
    "    ascii_code=ord(ch)\n",
    "    if ascii_code>=65 and ascii_code<=90:\n",
    "        upper_case+=1\n",
    "    elif ascii_code>=97 and ascii_code<=122:\n",
    "        lower_case+=1\n",
    "    elif ascii_code>=48 and ascii_code<=57:\n",
    "        digit_count+=1\n",
    "    elif ascii_code==32:\n",
    "        space_count+=1\n",
    "    else:\n",
    "        symbol_count+=1\n",
    "print(f\"Lower Case ={lower_case}\")\n",
    "print(f\"Upper Case ={upper_case}\")\n",
    "print(f\"Digit Count ={digit_count}\")\n",
    "print(f\"Space Count ={space_count}\")\n",
    "print(f\"Symbol Count ={symbol_count}\")\n"
   ]
  },
  {
   "cell_type": "code",
   "execution_count": null,
   "metadata": {},
   "outputs": [],
   "source": [
    "# Lower to uppercase \n"
   ]
  },
  {
   "cell_type": "code",
   "execution_count": null,
   "metadata": {},
   "outputs": [],
   "source": []
  },
  {
   "cell_type": "code",
   "execution_count": null,
   "metadata": {},
   "outputs": [],
   "source": []
  }
 ],
 "metadata": {
  "kernelspec": {
   "display_name": "Python 3",
   "language": "python",
   "name": "python3"
  },
  "language_info": {
   "codemirror_mode": {
    "name": "ipython",
    "version": 3
   },
   "file_extension": ".py",
   "mimetype": "text/x-python",
   "name": "python",
   "nbconvert_exporter": "python",
   "pygments_lexer": "ipython3",
   "version": "3.11.5"
  }
 },
 "nbformat": 4,
 "nbformat_minor": 2
}
