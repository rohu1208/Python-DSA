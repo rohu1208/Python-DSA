{
 "cells": [
  {
   "cell_type": "code",
   "execution_count": null,
   "metadata": {},
   "outputs": [],
   "source": [
    "# 3 March"
   ]
  },
  {
   "cell_type": "code",
   "execution_count": 1,
   "metadata": {},
   "outputs": [
    {
     "name": "stdout",
     "output_type": "stream",
     "text": [
      "8\n",
      "27\n"
     ]
    }
   ],
   "source": [
    "# Find Power using recursion\n",
    "def find_power(base, exponent):\n",
    "    if exponent == 0:   #base case\n",
    "        return 1      \n",
    "    elif exponent ==1:  #base case\n",
    "        return base\n",
    "    return base * find_power(base,exponent-1)\n",
    "\n",
    "print(find_power(2,3)) # 8\n",
    "print(find_power(3,3)) # 27\n"
   ]
  },
  {
   "cell_type": "code",
   "execution_count": 7,
   "metadata": {},
   "outputs": [
    {
     "data": {
      "text/plain": [
       "21"
      ]
     },
     "execution_count": 7,
     "metadata": {},
     "output_type": "execute_result"
    }
   ],
   "source": [
    "# Fibonacci Series using recursion\n",
    "def fib(n):\n",
    "    if n == 0:\n",
    "        return 0\n",
    "    elif n==1:\n",
    "        return 1\n",
    "    return fib(n-1)+fib(n-2)\n",
    "fib(5) # 5\n",
    "fib(8) # 21"
   ]
  },
  {
   "cell_type": "code",
   "execution_count": 10,
   "metadata": {},
   "outputs": [
    {
     "name": "stdout",
     "output_type": "stream",
     "text": [
      "[5, 4, 3, 2, 1]\n"
     ]
    }
   ],
   "source": [
    "# Reverse an Array without recursion\n",
    "def reverse_array(arr,start,end):\n",
    "    while start<end:\n",
    "        arr[start],arr[end] = arr[end],arr[start]\n",
    "        start+=1\n",
    "        end-=1\n",
    "        \n",
    "arr = [1,2,3,4,5]\n",
    "reverse_array(arr,0,len(arr)-1)\n",
    "print(arr) # [5, 4, 3, 2, 1]"
   ]
  },
  {
   "cell_type": "code",
   "execution_count": 12,
   "metadata": {},
   "outputs": [
    {
     "name": "stdout",
     "output_type": "stream",
     "text": [
      "[5, 4, 3, 2, 1]\n"
     ]
    }
   ],
   "source": [
    "def reverse_array_recursion(arr,start,end):\n",
    "    if start>=end:\n",
    "        return\n",
    "    arr[start],arr[end] = arr[end],arr[start]\n",
    "    reverse_array_recursion(arr,start+1,end-1)\n",
    "    \n",
    "arr = [1,2,3,4,5]\n",
    "reverse_array_recursion(arr,0,len(arr)-1)\n",
    "print(arr) # [5, 4, 3, 2, 1]"
   ]
  },
  {
   "cell_type": "code",
   "execution_count": null,
   "metadata": {},
   "outputs": [],
   "source": [
    "# Palindrome\n",
    "def is_palindrome(s):\n",
    "    l= 0\n",
    "    r = len(s) - 1\n",
    "    while l<r:\n",
    "        if s[l] != s[r]:\n",
    "            return False\n",
    "        l += 1\n",
    "        r -=1\n",
    "        \n",
    "            \n",
    "    return True\n",
    "print(is_palindrome(\"NAYAN\"))  # True\n",
    "print(is_palindrome(\"HELLO\"))  # False\n",
    "            "
   ]
  },
  {
   "cell_type": "code",
   "execution_count": 2,
   "metadata": {},
   "outputs": [
    {
     "name": "stdout",
     "output_type": "stream",
     "text": [
      "True\n",
      "False\n",
      "True\n"
     ]
    }
   ],
   "source": [
    "def is_palindrome(s):\n",
    "    l, r = 0, len(s) - 1\n",
    "    while l < r:\n",
    "        if s[l] != s[r]:\n",
    "            return False\n",
    "        l += 1\n",
    "        r -= 1\n",
    "    return True\n",
    "\n",
    "print(is_palindrome(\"NAYAN\"))  # True\n",
    "print(is_palindrome(\"HELLO\"))  # False\n",
    "print(is_palindrome(\"LEVEL\"))  # True\n"
   ]
  },
  {
   "cell_type": "code",
   "execution_count": 5,
   "metadata": {},
   "outputs": [
    {
     "data": {
      "text/plain": [
       "True"
      ]
     },
     "execution_count": 5,
     "metadata": {},
     "output_type": "execute_result"
    }
   ],
   "source": [
    "def is_pali_recursion(s,l=0,r=None):\n",
    "    if r is None:\n",
    "        r = len(s) - 1\n",
    "    if l>=r:\n",
    "        return True\n",
    "    if s[l]!=s[r]:\n",
    "        return False\n",
    "    return is_pali_recursion(s,l+1,r-1)\n",
    "\n",
    "is_pali_recursion(\"PAVAP\")\n",
    "\n",
    "    "
   ]
  },
  {
   "cell_type": "code",
   "execution_count": 7,
   "metadata": {},
   "outputs": [
    {
     "name": "stdout",
     "output_type": "stream",
     "text": [
      "True\n",
      "False\n"
     ]
    }
   ],
   "source": [
    "# by slicing\n",
    "def is_pali_rec_slicing(s):\n",
    "    if len(s)<=1:\n",
    "        return True\n",
    "    if s[0]!=s[-1]:\n",
    "        return False\n",
    "    return is_pali_rec_slicing(s[1:-1])\n",
    "\n",
    "print(is_palindrome(\"malayalam\")) # Output: True\n",
    "print(is_palindrome(\"max\")) # Output: False"
   ]
  },
  {
   "cell_type": "code",
   "execution_count": null,
   "metadata": {},
   "outputs": [],
   "source": []
  }
 ],
 "metadata": {
  "kernelspec": {
   "display_name": "Python 3",
   "language": "python",
   "name": "python3"
  },
  "language_info": {
   "codemirror_mode": {
    "name": "ipython",
    "version": 3
   },
   "file_extension": ".py",
   "mimetype": "text/x-python",
   "name": "python",
   "nbconvert_exporter": "python",
   "pygments_lexer": "ipython3",
   "version": "3.10.4"
  }
 },
 "nbformat": 4,
 "nbformat_minor": 2
}
