{
 "cells": [
  {
   "cell_type": "code",
   "execution_count": 2,
   "metadata": {},
   "outputs": [
    {
     "name": "stdout",
     "output_type": "stream",
     "text": [
      "dict_items([('Rohan', {'maths': 12, 'science': 23, 'english': 34}), ('Sohan', {'maths': 23, 'science': 34, 'english': 45}), ('Mohan', {'maths': 34, 'science': 45, 'english': 56})])\n"
     ]
    }
   ],
   "source": [
    "details={\n",
    "    \"Rohan\":{ \"maths\":12, \"science\":23, \"english\":34},\n",
    "    \"Sohan\":{ \"maths\":23, \"science\":34, \"english\":45},\n",
    "    \"Mohan\":{ \"maths\":34, \"science\":45, \"english\":56}\n",
    "    \n",
    "}\n",
    "\n",
    "print(details.items())"
   ]
  },
  {
   "cell_type": "code",
   "execution_count": 4,
   "metadata": {},
   "outputs": [
    {
     "name": "stdout",
     "output_type": "stream",
     "text": [
      "[('Mohan', {'maths': 34, 'science': 45, 'english': 56}), ('Sohan', {'maths': 23, 'science': 34, 'english': 45}), ('Rohan', {'maths': 12, 'science': 23, 'english': 34})]\n"
     ]
    }
   ],
   "source": [
    "x = sorted(details.items(), key=lambda x: x[1][\"maths\"], reverse=True)\n",
    "print(x)"
   ]
  },
  {
   "cell_type": "code",
   "execution_count": null,
   "metadata": {},
   "outputs": [],
   "source": [
    "# Sort on basis of last marks\n"
   ]
  }
 ],
 "metadata": {
  "kernelspec": {
   "display_name": "Python 3",
   "language": "python",
   "name": "python3"
  },
  "language_info": {
   "codemirror_mode": {
    "name": "ipython",
    "version": 3
   },
   "file_extension": ".py",
   "mimetype": "text/x-python",
   "name": "python",
   "nbconvert_exporter": "python",
   "pygments_lexer": "ipython3",
   "version": "3.10.4"
  }
 },
 "nbformat": 4,
 "nbformat_minor": 2
}
