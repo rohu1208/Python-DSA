{
 "cells": [
  {
   "cell_type": "markdown",
   "metadata": {},
   "source": [
    "# Classes\n"
   ]
  },
  {
   "cell_type": "markdown",
   "metadata": {},
   "source": [
    "Class - is a bluePrint"
   ]
  },
  {
   "cell_type": "markdown",
   "metadata": {},
   "source": [
    "1st letter of class with capitale\n",
    "class MyClass:"
   ]
  },
  {
   "cell_type": "markdown",
   "metadata": {},
   "source": []
  },
  {
   "cell_type": "code",
   "execution_count": 1,
   "metadata": {},
   "outputs": [
    {
     "data": {
      "text/plain": [
       "'\\n1.RollNo\\n2.Name\\n3.Marks\\n4.gender\\n'"
      ]
     },
     "execution_count": 1,
     "metadata": {},
     "output_type": "execute_result"
    }
   ],
   "source": [
    "# Student\n",
    "'''\n",
    "1.RollNo\n",
    "2.Name\n",
    "3.Marks\n",
    "4.gender\n",
    "'''"
   ]
  },
  {
   "cell_type": "code",
   "execution_count": 4,
   "metadata": {},
   "outputs": [
    {
     "name": "stdout",
     "output_type": "stream",
     "text": [
      "<__main__.Student object at 0x00000250D2BD6710>\n"
     ]
    }
   ],
   "source": [
    "class Student:\n",
    "    # Attributes (variables inside class)\n",
    "    roll_no = 0\n",
    "    name = \" \"\n",
    "    gender = \" \"\n",
    "    physics = 0\n",
    "    chemistry = 0\n",
    "\n",
    "# Now make object\n",
    "s1 = Student()\n",
    "print(s1) "
   ]
  },
  {
   "cell_type": "code",
   "execution_count": 5,
   "metadata": {},
   "outputs": [
    {
     "name": "stdout",
     "output_type": "stream",
     "text": [
      "0\n"
     ]
    }
   ],
   "source": [
    "print(s1.physics)"
   ]
  },
  {
   "cell_type": "code",
   "execution_count": 7,
   "metadata": {},
   "outputs": [
    {
     "name": "stdout",
     "output_type": "stream",
     "text": [
      "Rohan 20\n"
     ]
    }
   ],
   "source": [
    "# set objects \n",
    "s1.name = \"Rohan\"\n",
    "s1.age = 20\n",
    "print(s1.name,s1.age)"
   ]
  },
  {
   "cell_type": "code",
   "execution_count": 8,
   "metadata": {},
   "outputs": [],
   "source": [
    "# other object\n",
    "# s2 = Student()"
   ]
  },
  {
   "cell_type": "code",
   "execution_count": 10,
   "metadata": {},
   "outputs": [
    {
     "name": "stdout",
     "output_type": "stream",
     "text": [
      "<__main__.Student object at 0x00000250D2C0A190>\n",
      "Roll Number = 1\n",
      "Name = Rahul\n",
      "Gender = Male\n"
     ]
    }
   ],
   "source": [
    "# Now Making Optimal \n",
    "class Student:\n",
    "    # Attributes (variables inside class)\n",
    "    roll_no = 0\n",
    "    name = \" \"\n",
    "    gender = \" \"\n",
    "    standard =0\n",
    "       \n",
    "    # Methods\n",
    "    def display(self):\n",
    "        print(self) # same as print(s1)\n",
    "        print(f\"Roll Number = {self.roll_no}\")\n",
    "        print(f\"Name = {self.name}\")\n",
    "        print(f\"Gender = {self.gender}\")\n",
    "        \n",
    "s1 = Student()\n",
    "s1.roll_no = 1\n",
    "s1.name = \"Rahul\"\n",
    "s1.gender = \"Male\"\n",
    "s1.standard = 10\n",
    "s1.display()  # self ke andar s1 ka object jayega\n",
    "        \n",
    "        "
   ]
  },
  {
   "cell_type": "code",
   "execution_count": 20,
   "metadata": {},
   "outputs": [
    {
     "name": "stdout",
     "output_type": "stream",
     "text": [
      "<__main__.Student object at 0x00000250D2C62B10>\n",
      "Roll Number = 1\n",
      "Name = Rohan\n",
      "Gender = Male\n",
      "Standard=11\n"
     ]
    }
   ],
   "source": [
    "# sb ke lia bar bar object ki value define krni pd rhi\n",
    "\n",
    "# Now Making Optimal \n",
    "class Student:\n",
    "    # Attributes (variables inside class)\n",
    "    \n",
    "    # roll_no = 0\n",
    "    # name = \" \"\n",
    "    # gender = \" \"\n",
    "    # standard =0  # no need to write this\n",
    "       \n",
    "    # Methods\n",
    "    def display(self):\n",
    "        print(self) # same as print(s1)\n",
    "        print(f\"Roll Number = {self.roll_no}\")\n",
    "        print(f\"Name = {self.name}\")\n",
    "        print(f\"Gender = {self.gender}\")\n",
    "        print(f\"Standard={self.standard}\")\n",
    "    \n",
    "    # def set_details(self):\n",
    "    #     self.roll_no = int(input(\"Enter Roll Number: \"))\n",
    "    #     self.name = input(\"Enter Name: \")\n",
    "    #     self.gender = input(\"Enter Gender: \")\n",
    "    #     self.standard = int(input(\"Enter Standard: \"))\n",
    "     \n",
    "    # way 2 -- Mostly use this in industry \n",
    "    def set_details2(self,r:str,n:int,g:str,st:int):\n",
    "        self.roll_no = r\n",
    "        self.name = n\n",
    "        self.gender = g\n",
    "        self.standard = st\n",
    "        \n",
    "        \n",
    "s1 = Student()\n",
    "# s1.roll_no = 1\n",
    "# s1.name = \"Rahul\"\n",
    "# s1.gender = \"Male\"\n",
    "# s1.standard = 10\n",
    "# s1.set_details()\n",
    "s1.set_details2(1,\"Rohan\",\"Male\",11)\n",
    "\n",
    "s1.display()  # self ke andar s1 ka object jayega\n",
    "        \n",
    "        "
   ]
  },
  {
   "cell_type": "code",
   "execution_count": 21,
   "metadata": {},
   "outputs": [],
   "source": [
    "# interview question , jb object define hoga tb class ke attribute ban jayenge \n",
    "# and jb we call vo vapas banenge ya override\n",
    "# and jo class ko call krega uske lia banega"
   ]
  },
  {
   "cell_type": "code",
   "execution_count": null,
   "metadata": {},
   "outputs": [],
   "source": [
    "# s1.set_details2(1,\"Rohan\",\"Male\",11)\n",
    "# pass it mandetory \n",
    "# Special MEthod use as init"
   ]
  },
  {
   "cell_type": "code",
   "execution_count": null,
   "metadata": {},
   "outputs": [
    {
     "name": "stdout",
     "output_type": "stream",
     "text": [
      "This is INIT method\n",
      "This is INIT method\n"
     ]
    }
   ],
   "source": [
    "# Special Method/Magic Methods -- __init__\n",
    "\n",
    "class Student:\n",
    "    def __init__(self):\n",
    "        print('This is INIT method')\n",
    "    # Methods\n",
    "    def display(self):\n",
    "        print(self) # same as print(s1)\n",
    "        print(f\"Roll Number = {self.roll_no}\")\n",
    "        print(f\"Name = {self.name}\")\n",
    "        print(f\"Gender = {self.gender}\")\n",
    "        print(f\"Standard={self.standard}\")\n",
    "     \n",
    "    def set_details2(self,r:str,n:int,g:str,st:int):\n",
    "        self.roll_no = r\n",
    "        self.name = n\n",
    "        self.gender = g\n",
    "        self.standard = st\n",
    "        \n",
    "        \n",
    "s1 = Student()\n",
    "s2 = Student()\n",
    "\n",
    "\n",
    "# s1.set_details2(1,\"Rohan\",\"Male\",11)\n",
    "\n",
    "# s1.display()    \n",
    "    "
   ]
  },
  {
   "cell_type": "code",
   "execution_count": 24,
   "metadata": {},
   "outputs": [],
   "source": [
    "# JAisehi object call init run 1st"
   ]
  },
  {
   "cell_type": "code",
   "execution_count": 25,
   "metadata": {},
   "outputs": [],
   "source": [
    "# So, No need to Set detail"
   ]
  },
  {
   "cell_type": "code",
   "execution_count": null,
   "metadata": {},
   "outputs": [
    {
     "name": "stdout",
     "output_type": "stream",
     "text": [
      "This is INIT method\n",
      "140717345575720\n",
      "2546156560112\n",
      "2546156555632\n",
      "140717345576040\n",
      "This is INIT method\n",
      "140717345575752\n",
      "2546156564080\n",
      "2546156555632\n",
      "140717345576008\n",
      "Roll Number = 1\n",
      "Name = Rohan\n",
      "Gender = Male\n",
      "Standard = 11\n",
      "Roll Number = 2\n",
      "Name = Amit\n",
      "Gender = Male\n",
      "Standard = 10\n",
      "Student details updated successfully!\n",
      "Roll Number = 1\n",
      "Name = Rahul\n",
      "Gender = Male\n",
      "Standard = 12\n"
     ]
    }
   ],
   "source": [
    "class Student:\n",
    "    def __init__(self, r: int, n: str, g: str, st: int):\n",
    "        print('This is INIT method')\n",
    "        self.roll_no = r\n",
    "        print(id(r))  # Har Attribute ka id alag\n",
    "        self.name = n\n",
    "        print(id(n))  # Corrected\n",
    "        self.gender = g\n",
    "        print(id(g))  # Corrected\n",
    "        self.standard = st\n",
    "        print(id(st))  # Corrected\n",
    "\n",
    "    # Method to display student details\n",
    "    def display(self):\n",
    "        print(f\"Roll Number = {self.roll_no}\")\n",
    "        print(f\"Name = {self.name}\")\n",
    "        print(f\"Gender = {self.gender}\")\n",
    "        print(f\"Standard = {self.standard}\")\n",
    "        \n",
    "    # Method to update student details\n",
    "    def update(self, r=None, n=None, g=None, st=None):\n",
    "        if r is not None:\n",
    "            self.roll_no = r\n",
    "        if n is not None:\n",
    "            self.name = n\n",
    "        if g is not None:\n",
    "            self.gender = g\n",
    "        if st is not None:\n",
    "            self.standard = st\n",
    "        print(\"Student details updated successfully!\")\n",
    "        \n",
    "# Creating student objects with details\n",
    "s1 = Student(1, \"Rohan\", \"Male\", 11)\n",
    "s2 = Student(2, \"Amit\", \"Male\", 10)\n",
    "\n",
    "# Displaying details\n",
    "s1.display()\n",
    "s2.display()\n",
    "\n",
    "# Updating student details\n",
    "s1.update(n=\"Rahul\", st=12)\n",
    "\n",
    "# Displaying details after update\n",
    "s1.display()"
   ]
  },
  {
   "cell_type": "code",
   "execution_count": 27,
   "metadata": {},
   "outputs": [],
   "source": [
    "# __init__ method to initialize attributes when an object is created"
   ]
  },
  {
   "cell_type": "code",
   "execution_count": 28,
   "metadata": {},
   "outputs": [],
   "source": [
    "# Constructor in cpp and java to create object\n",
    "# is __init__ method is a constructor \n",
    "# the constructor allocate memory initialize as make object\n",
    "# so memory initalize pehle nahi ho gayi hogi, so pehlese object ka address kese aa rha ? \n",
    "#  "
   ]
  },
  {
   "cell_type": "code",
   "execution_count": null,
   "metadata": {},
   "outputs": [],
   "source": [
    "# So, init method memory allocate nhi krta\n",
    "# Memory allocate s1 =student() mai ho rha hai\n",
    "# init is not a Constructor\n",
    "# it is an initializer\n",
    "# it is called when an object is created from a class\n"
   ]
  },
  {
   "cell_type": "code",
   "execution_count": null,
   "metadata": {},
   "outputs": [],
   "source": []
  }
 ],
 "metadata": {
  "kernelspec": {
   "display_name": "Python 3",
   "language": "python",
   "name": "python3"
  },
  "language_info": {
   "codemirror_mode": {
    "name": "ipython",
    "version": 3
   },
   "file_extension": ".py",
   "mimetype": "text/x-python",
   "name": "python",
   "nbconvert_exporter": "python",
   "pygments_lexer": "ipython3",
   "version": "3.11.5"
  }
 },
 "nbformat": 4,
 "nbformat_minor": 2
}
