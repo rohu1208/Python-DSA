{
 "cells": [
  {
   "cell_type": "code",
   "execution_count": 8,
   "metadata": {},
   "outputs": [
    {
     "name": "stdout",
     "output_type": "stream",
     "text": [
      "[<__main__.Student object at 0x0000021316866990>, <__main__.Student object at 0x000002131685F590>]\n",
      "Kalpana \n"
     ]
    }
   ],
   "source": [
    "class Student:\n",
    "    def __init__(self):\n",
    "        self.roll_no = int(input('Enter a Roll Number: '))\n",
    "        self.name = input('Enter a Name: ')\n",
    "        self.gender = input('Enter Gender: ')\n",
    "        \n",
    "    def display(self):\n",
    "        print(f\"Roll No: {self.roll_no}\")\n",
    "        print(f\"Name: {self.name}\")\n",
    "        print(f\"Gender: {self.gender}\")\n",
    "\n",
    "all_students = []  \n",
    "\n",
    "s1 = Student()\n",
    "all_students.append(s1)  # Appending Student object\n",
    "\n",
    "s2 = Student()  # Creating a new Student object\n",
    "all_students.append(s2)  # Appending it\n",
    "\n",
    "print(all_students)  # Will print addresses of Student objects\n",
    "print(all_students[1].name)  # Accessing the second student's name\n"
   ]
  },
  {
   "cell_type": "code",
   "execution_count": 10,
   "metadata": {},
   "outputs": [
    {
     "name": "stdout",
     "output_type": "stream",
     "text": [
      "Roll No: 11\n",
      "Name: Kalpana \n",
      "Gender: F\n"
     ]
    }
   ],
   "source": [
    "all_students[1].display()"
   ]
  },
  {
   "cell_type": "code",
   "execution_count": 11,
   "metadata": {},
   "outputs": [
    {
     "data": {
      "text/plain": [
       "<__main__.Student at 0x2131685f590>"
      ]
     },
     "execution_count": 11,
     "metadata": {},
     "output_type": "execute_result"
    }
   ],
   "source": [
    "all_students[1]"
   ]
  },
  {
   "cell_type": "markdown",
   "metadata": {},
   "source": [
    "Mini - Project"
   ]
  },
  {
   "cell_type": "code",
   "execution_count": 4,
   "metadata": {},
   "outputs": [
    {
     "name": "stdout",
     "output_type": "stream",
     "text": [
      "1. Add Student\n",
      "2. Display All student\n",
      "3. Update student details\n",
      "4. Exit\n",
      "[<__main__.Student object at 0x000001C763815490>]\n",
      "1. Add Student\n",
      "2. Display All student\n",
      "3. Update student details\n",
      "4. Exit\n",
      "[<__main__.Student object at 0x000001C763815490>, <__main__.Student object at 0x000001C762B9A390>]\n",
      "1. Add Student\n",
      "2. Display All student\n",
      "3. Update student details\n",
      "4. Exit\n",
      "Roll No: 11\n",
      "Name: Rohan\n",
      "Gender: M\n",
      "Total Marks: 54\n",
      "Roll No: 12\n",
      "Name: Parag\n",
      "Gender: M\n",
      "Total Marks: 52\n",
      "1. Add Student\n",
      "2. Display All student\n",
      "3. Update student details\n",
      "4. Exit\n",
      "[<__main__.Student object at 0x000001C763815490>, <__main__.Student object at 0x000001C762B9A390>, <__main__.Student object at 0x000001C763832210>]\n",
      "1. Add Student\n",
      "2. Display All student\n",
      "3. Update student details\n",
      "4. Exit\n",
      "Roll No: 11\n",
      "Name: Rohan\n",
      "Gender: M\n",
      "Total Marks: 54\n",
      "Roll No: 12\n",
      "Name: Parag\n",
      "Gender: M\n",
      "Total Marks: 52\n",
      "Roll No: 12\n",
      "Name: r\n",
      "Gender: m\n",
      "Total Marks: 50\n",
      "1. Add Student\n",
      "2. Display All student\n",
      "3. Update student details\n",
      "4. Exit\n",
      "[<__main__.Student object at 0x000001C763815490>, <__main__.Student object at 0x000001C762B9A390>, <__main__.Student object at 0x000001C763832210>, <__main__.Student object at 0x000001C763841510>]\n",
      "1. Add Student\n",
      "2. Display All student\n",
      "3. Update student details\n",
      "4. Exit\n"
     ]
    }
   ],
   "source": [
    "class Student:\n",
    "    def __init__(self):\n",
    "        self.roll_no = int(input('Enter a Roll Number: '))\n",
    "        self.name = input('Enter a Name: ')\n",
    "        self.gender = input('Enter Gender: ')\n",
    "        self.marks = []\n",
    "        for _ in range(4):\n",
    "            m = int(input(\"Enter Marks = \"))\n",
    "            self.marks.append(m)\n",
    "        \n",
    "    def display(self):\n",
    "        print(f\"Roll No: {self.roll_no}\")\n",
    "        print(f\"Name: {self.name}\")\n",
    "        print(f\"Gender: {self.gender}\")\n",
    "        print(f\"Student Marks: {self.marks}\")\n",
    "        print(f\"Total Marks: {sum(self.marks)}\")\n",
    "        \n",
    "    def update(self):\n",
    "        self.name = input(\"Enter new name = \")\n",
    "\n",
    "    def displayMarks(self):\n",
    "        for i in range(4):\n",
    "            print(f\"Marks= {self.marks[i]}\")\n",
    "        print(f\"Total Marks= {sum(self.marks)}\")\n",
    "all_students = []  \n",
    "while True:\n",
    "    print(\"1. Add Student\")\n",
    "    print(\"2. Display All student\")\n",
    "    print(\"3. Update student details\")\n",
    "    print(\"4. Display Marks of A perticular Student \")\n",
    "    print(\"5. Exit\")\n",
    "    choice = int(input('Enter yout choice'))\n",
    "    if choice == 1:\n",
    "        obj = Student()\n",
    "        all_students.append(obj)\n",
    "        print(all_students)\n",
    "    elif choice == 2:\n",
    "        if len(all_students)==0:\n",
    "            print(\"No students in the list\")\n",
    "        for st in all_students:\n",
    "            st.display()\n",
    "    elif choice==3:\n",
    "        roll_number = int(input('Enter Roll Number you want to update'))\n",
    "        for st in all_students:\n",
    "            if st.roll_no == roll_number:\n",
    "                st.update()\n",
    "                break\n",
    "            \n",
    "    elif choice==4:\n",
    "        roll_number = int(input('Enter Roll Number you want to check Marks of'))\n",
    "        for st in all_students:\n",
    "            if st.roll_no == roll_number:\n",
    "                st.displayMarks()\n",
    "    elif choice==5:\n",
    "        break\n",
    "    else:\n",
    "        print(\"Invalid choice\")"
   ]
  },
  {
   "cell_type": "code",
   "execution_count": 5,
   "metadata": {},
   "outputs": [
    {
     "name": "stdout",
     "output_type": "stream",
     "text": [
      "1. Add Student\n",
      "2. Display All student\n",
      "3. Update student details\n",
      "4. Display Marks of A perticular Student \n",
      "5. Exit\n",
      "[<__main__.Student object at 0x000001C76260CE50>]\n",
      "1. Add Student\n",
      "2. Display All student\n",
      "3. Update student details\n",
      "4. Display Marks of A perticular Student \n",
      "5. Exit\n",
      "Marks= 31\n",
      "Marks= 42\n",
      "Marks= 41\n",
      "Marks= 32\n",
      "Total Marks= 146\n",
      "1. Add Student\n",
      "2. Display All student\n",
      "3. Update student details\n",
      "4. Display Marks of A perticular Student \n",
      "5. Exit\n"
     ]
    },
    {
     "ename": "ValueError",
     "evalue": "invalid literal for int() with base 10: ''",
     "output_type": "error",
     "traceback": [
      "\u001b[1;31m---------------------------------------------------------------------------\u001b[0m",
      "\u001b[1;31mValueError\u001b[0m                                Traceback (most recent call last)",
      "Cell \u001b[1;32mIn[5], line 32\u001b[0m\n\u001b[0;32m     30\u001b[0m \u001b[38;5;28mprint\u001b[39m(\u001b[38;5;124m\"\u001b[39m\u001b[38;5;124m4. Display Marks of A perticular Student \u001b[39m\u001b[38;5;124m\"\u001b[39m)\n\u001b[0;32m     31\u001b[0m \u001b[38;5;28mprint\u001b[39m(\u001b[38;5;124m\"\u001b[39m\u001b[38;5;124m5. Exit\u001b[39m\u001b[38;5;124m\"\u001b[39m)\n\u001b[1;32m---> 32\u001b[0m choice \u001b[38;5;241m=\u001b[39m \u001b[38;5;28mint\u001b[39m(\u001b[38;5;28minput\u001b[39m(\u001b[38;5;124m'\u001b[39m\u001b[38;5;124mEnter yout choice\u001b[39m\u001b[38;5;124m'\u001b[39m))\n\u001b[0;32m     33\u001b[0m \u001b[38;5;28;01mif\u001b[39;00m choice \u001b[38;5;241m==\u001b[39m \u001b[38;5;241m1\u001b[39m:\n\u001b[0;32m     34\u001b[0m     obj \u001b[38;5;241m=\u001b[39m Student()\n",
      "\u001b[1;31mValueError\u001b[0m: invalid literal for int() with base 10: ''"
     ]
    }
   ],
   "source": [
    "class Student:\n",
    "    def __init__(self):\n",
    "        self.roll_no = int(input('Enter a Roll Number: '))\n",
    "        self.name = input('Enter a Name: ')\n",
    "        self.gender = input('Enter Gender: ')\n",
    "        self.marks = []\n",
    "        for _ in range(4):\n",
    "            m = int(input(\"Enter Marks = \"))\n",
    "            self.marks.append(m)\n",
    "        \n",
    "    def display(self):\n",
    "        print(f\"\\nStudent roll no = {self.roll_no}\")  # Added newline and corrected formatting\n",
    "        print(f\"Student name = {self.name}\")\n",
    "        print(f\"Student gender = {self.gender}\")\n",
    "        print(f\"Student marks = {self.marks}\")  # Corrected formatting\n",
    "        print(f\"Total Marks: {sum(self.marks)}\") # added total marks\n",
    "        \n",
    "    def update(self):\n",
    "        self.name = input(\"Enter new name = \")\n",
    "\n",
    "    def displayMarks(self):\n",
    "        for i in range(4):\n",
    "            print(f\"Marks = {self.marks[i]}\") # Corrected the indexing and formatting\n",
    "        print(f\"Total marks scored = {sum(self.marks)}\") # Corrected formatting\n",
    "\n",
    "    def updateMarks(self):\n",
    "        self.marks.clear()\n",
    "        for _ in range(4):\n",
    "            m = int(input(\"Enter marks = \"))\n",
    "            self.marks.append(m)\n",
    "\n",
    "        # Alternate way (as commented in the image)\n",
    "        # for i in range(4):\n",
    "        #     m = int(input(\"Enter marks = \"))\n",
    "        #     self.marks[i] = m\n",
    "\n",
    "all_students = [] \n",
    "while True:\n",
    "    print(\"1. Add Student\")\n",
    "    print(\"2. Display All student\")\n",
    "    print(\"3. Update student details\")\n",
    "    print(\"4. Display Marks of A particular Student\")\n",
    "    print(\"5. Update Marks of a particular Student\") # Added option for updating marks\n",
    "    print(\"6. Exit\")\n",
    "    choice = int(input('Enter your choice: '))\n",
    "    if choice == 1:\n",
    "        obj = Student()\n",
    "        all_students.append(obj)\n",
    "        print(all_students)\n",
    "    elif choice == 2:\n",
    "        if len(all_students) == 0:\n",
    "            print(\"No students in the list\")\n",
    "        else:\n",
    "            for st in all_students:\n",
    "                st.display()\n",
    "    elif choice == 3:\n",
    "        roll_number = int(input('Enter Roll Number you want to update: '))\n",
    "        found = False\n",
    "        for st in all_students:\n",
    "            if st.roll_no == roll_number:\n",
    "                st.update()\n",
    "                found = True\n",
    "                break\n",
    "        if not found:\n",
    "            print(f\"Student with roll number {roll_number} not found.\")\n",
    "\n",
    "    elif choice == 4:\n",
    "        roll_number = int(input(\"Enter roll number to display marks: \"))\n",
    "        found = False\n",
    "        for st in all_students:\n",
    "            if st.roll_no == roll_number:\n",
    "                st.displayMarks()\n",
    "                found = True\n",
    "                break\n",
    "        if not found:\n",
    "            print(f\"Student with roll number {roll_number} not found.\")\n",
    "\n",
    "    elif choice == 5: # Update marks of a student\n",
    "        roll_number = int(input(\"Enter roll number to update marks: \"))\n",
    "        found = False\n",
    "        for st in all_students:\n",
    "            if st.roll_no == roll_number:\n",
    "                st.updateMarks()\n",
    "                found = True\n",
    "                break\n",
    "        if not found:\n",
    "            print(f\"Student with roll number {roll_number} not found.\")\n",
    "\n",
    "    elif choice == 6:\n",
    "        break\n",
    "    else:\n",
    "        print(\"Invalid choice\")"
   ]
  },
  {
   "cell_type": "code",
   "execution_count": null,
   "metadata": {},
   "outputs": [],
   "source": []
  }
 ],
 "metadata": {
  "kernelspec": {
   "display_name": "Python 3",
   "language": "python",
   "name": "python3"
  },
  "language_info": {
   "codemirror_mode": {
    "name": "ipython",
    "version": 3
   },
   "file_extension": ".py",
   "mimetype": "text/x-python",
   "name": "python",
   "nbconvert_exporter": "python",
   "pygments_lexer": "ipython3",
   "version": "3.11.5"
  }
 },
 "nbformat": 4,
 "nbformat_minor": 2
}
