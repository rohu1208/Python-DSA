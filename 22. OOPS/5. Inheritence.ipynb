{
 "cells": [
  {
   "cell_type": "code",
   "execution_count": 1,
   "metadata": {},
   "outputs": [
    {
     "name": "stdout",
     "output_type": "stream",
     "text": [
      "Name:  Rohan\n",
      "Age:  12\n",
      "Gender:  M\n"
     ]
    }
   ],
   "source": [
    "class Person:\n",
    "    def set_person_details(self):\n",
    "        self.name = input(\"Enter Name\")\n",
    "        self.age = int(input(\"Enter Age\"))\n",
    "        self.gender= input(\"Enter Gender\")\n",
    "        \n",
    "    def display_person_details(self):\n",
    "        print(\"Name: \", self.name)\n",
    "        print(\"Age: \", self.age)\n",
    "        print(\"Gender: \", self.gender)\n",
    "        \n",
    "p1=Person()\n",
    "p1.set_person_details()\n",
    "p1.display_person_details()"
   ]
  },
  {
   "cell_type": "code",
   "execution_count": 6,
   "metadata": {},
   "outputs": [
    {
     "name": "stdout",
     "output_type": "stream",
     "text": [
      "rohu\n"
     ]
    }
   ],
   "source": [
    "class Person:\n",
    "    \"\"\"\n",
    "    ATTRIBUTES -\n",
    "    name (str): The name of the person\n",
    "    age (int): The age of the person\n",
    "    gender (ch) : The gender of the person\n",
    "    \"\"\"\n",
    "    def set_person_details(self):\n",
    "        self.name = input(\"Enter Name\")\n",
    "        self.age = int(input(\"Enter Age\"))\n",
    "        self.gender= input(\"Enter Gender\")\n",
    "        \n",
    "    def display_person_details(self):\n",
    "        print(\"Name: \", self.name)\n",
    "        print(\"Age: \", self.age)\n",
    "        print(\"Gender: \", self.gender)\n",
    "\n",
    "class Student(Person): # it inherit properties of Person\n",
    "    def set_student_details(self):\n",
    "        self.roll_no = int(input(\"Roll Number\"))\n",
    "        self.marks = int(input(\"Marks\"))\n",
    "        \n",
    "    def display_student_details(self):\n",
    "        pass\n",
    "    \n",
    "    \n",
    "           \n",
    "s1=Student()\n",
    "s1.set_person_details()\n",
    "print(s1.name)"
   ]
  },
  {
   "cell_type": "code",
   "execution_count": 5,
   "metadata": {},
   "outputs": [
    {
     "name": "stdout",
     "output_type": "stream",
     "text": [
      "Name:  Rohan\n",
      "Age:  21\n",
      "Gender:  M\n",
      "Rohan\n",
      "70\n"
     ]
    }
   ],
   "source": [
    "class Person:\n",
    "    \"\"\"\n",
    "    ATTRIBUTES -\n",
    "    name (str): The name of the person\n",
    "    age (int): The age of the person\n",
    "    gender (ch) : The gender of the person\n",
    "    \"\"\"\n",
    "    def set_person_details(self):\n",
    "        self.name = input(\"Enter Name\")\n",
    "        self.age = int(input(\"Enter Age\"))\n",
    "        self.gender= input(\"Enter Gender\")\n",
    "        \n",
    "    def display_person_details(self):\n",
    "        print(\"Name: \", self.name)\n",
    "        print(\"Age: \", self.age)\n",
    "        print(\"Gender: \", self.gender)\n",
    "\n",
    "class Student(Person): # it inherit properties of Person\n",
    "    def set_student_details(self):\n",
    "        self.roll_no = int(input(\"Roll Number\"))\n",
    "        self.marks = int(input(\"Marks\"))\n",
    "        \n",
    "    def display_student_details(self):\n",
    "        pass\n",
    "    \n",
    "    \n",
    "           \n",
    "s1=Student()\n",
    "s1.set_person_details()\n",
    "s1.set_student_details()\n",
    "s1.display_person_details()\n",
    "print(s1.name)\n",
    "print(s1.marks)"
   ]
  },
  {
   "cell_type": "code",
   "execution_count": 10,
   "metadata": {},
   "outputs": [
    {
     "name": "stdout",
     "output_type": "stream",
     "text": [
      "Student Name = Rohan\n",
      "Age = 21\n",
      "Gender = M\n",
      "Roll Number = 45\n",
      "Student Marks = 670\n"
     ]
    }
   ],
   "source": [
    "# if forgot to ask person details\n",
    "class Person:\n",
    "    \"\"\"\n",
    "    ATTRIBUTES -\n",
    "    name (str): The name of the person\n",
    "    age (int): The age of the person\n",
    "    gender (ch) : The gender of the person\n",
    "    \"\"\"\n",
    "    def set_person_details(self):\n",
    "        self.name = input(\"Enter Name\")\n",
    "        self.age = int(input(\"Enter Age\"))\n",
    "        self.gender= input(\"Enter Gender\")\n",
    "        \n",
    "    def display_person_details(self):\n",
    "        print(\"Name: \", self.name)\n",
    "        print(\"Age: \", self.age)\n",
    "        print(\"Gender: \", self.gender)\n",
    "\n",
    "class Student(Person): # it inherit properties of Person\n",
    "    def set_student_details(self):\n",
    "        # self.set_person_details()\n",
    "        self.set_person_details()\n",
    "        self.roll_no = int(input(\"Roll Number\"))\n",
    "        self.marks = int(input(\"Marks\"))\n",
    "        \n",
    "    def display_student_details(self):\n",
    "        print(f\"Student Name = {self.name}\")\n",
    "        print(f\"Age = {self.age}\")\n",
    "        print(f\"Gender = {self.gender}\")\n",
    "        print(f\"Roll Number = {self.roll_no}\")\n",
    "        print(f\"Student Marks = {self.marks}\")\n",
    "        \n",
    "    \n",
    "    \n",
    "           \n",
    "s1=Student()\n",
    "# s1.set_person_details()\n",
    "s1.set_student_details()\n",
    "s1.display_student_details()\n",
    "# print(s1.name)\n",
    "# print(s1.marks)"
   ]
  },
  {
   "cell_type": "code",
   "execution_count": 11,
   "metadata": {},
   "outputs": [
    {
     "name": "stdout",
     "output_type": "stream",
     "text": [
      "Student Name = rohan\n",
      "Age = 21\n",
      "Gender = m\n",
      "Roll Number = 21\n",
      "Student Marks = 346\n"
     ]
    }
   ],
   "source": [
    "# if forgot to set student\n",
    "# use init\n",
    "# if forgot to ask person details\n",
    "class Person:\n",
    "    \"\"\"\n",
    "    ATTRIBUTES -\n",
    "    name (str): The name of the person\n",
    "    age (int): The age of the person\n",
    "    gender (ch) : The gender of the person\n",
    "    \"\"\"\n",
    "    def set_person_details(self):\n",
    "        self.name = input(\"Enter Name\")\n",
    "        self.age = int(input(\"Enter Age\"))\n",
    "        self.gender= input(\"Enter Gender\")\n",
    "        \n",
    "    def display_person_details(self):\n",
    "        print(\"Name: \", self.name)\n",
    "        print(\"Age: \", self.age)\n",
    "        print(\"Gender: \", self.gender)\n",
    "\n",
    "class Student(Person): # it inherit properties of Person\n",
    "    def __init__(self):\n",
    "        # self.set_person_details()\n",
    "        self.set_person_details()\n",
    "        self.roll_no = int(input(\"Roll Number\"))\n",
    "        self.marks = int(input(\"Marks\"))\n",
    "        \n",
    "    def display_student_details(self):\n",
    "        print(f\"Student Name = {self.name}\")\n",
    "        print(f\"Age = {self.age}\")\n",
    "        print(f\"Gender = {self.gender}\")\n",
    "        print(f\"Roll Number = {self.roll_no}\")\n",
    "        print(f\"Student Marks = {self.marks}\")\n",
    "        \n",
    "    \n",
    "    \n",
    "           \n",
    "s1=Student()\n",
    "# s1.set_person_details()\n",
    "# s1.set_student_details()\n",
    "s1.display_student_details()\n",
    "# print(s1.name)\n",
    "# print(s1.marks)\n"
   ]
  },
  {
   "cell_type": "code",
   "execution_count": 12,
   "metadata": {},
   "outputs": [
    {
     "name": "stdout",
     "output_type": "stream",
     "text": [
      "B INIT\n"
     ]
    }
   ],
   "source": [
    "#important \n",
    "class A:\n",
    "    def __init__(self):\n",
    "        print(\"A INIT\")\n",
    "        \n",
    "class B(A):\n",
    "    def __init__(self):\n",
    "        print(\"B INIT\")\n",
    "        \n",
    "x1=B()"
   ]
  },
  {
   "cell_type": "code",
   "execution_count": 14,
   "metadata": {},
   "outputs": [
    {
     "name": "stdout",
     "output_type": "stream",
     "text": [
      "A INIT\n",
      "B INIT\n"
     ]
    }
   ],
   "source": [
    "# to run class A [parent class]\n",
    "# use super\n",
    "class A:\n",
    "    def __init__(self):\n",
    "        print(\"A INIT\")\n",
    "        \n",
    "class B(A):\n",
    "    def __init__(self):\n",
    "        super().__init__() # jisko inherit krna uska method dalo\n",
    "        print(\"B INIT\")\n",
    "        \n",
    "x1=B()\n",
    "        "
   ]
  },
  {
   "cell_type": "code",
   "execution_count": 17,
   "metadata": {},
   "outputs": [
    {
     "name": "stdout",
     "output_type": "stream",
     "text": [
      "Student Name = Rohan\n",
      "Age = 21\n",
      "Gender = M\n",
      "Roll Number = 21\n",
      "Student Marks = 460\n"
     ]
    }
   ],
   "source": [
    "# if forgot to set student\n",
    "# use init\n",
    "# if forgot to ask person details\n",
    "class Person:\n",
    "    \"\"\"\n",
    "    ATTRIBUTES -\n",
    "    name (str): The name of the person\n",
    "    age (int): The age of the person\n",
    "    gender (ch) : The gender of the person\n",
    "    \"\"\"\n",
    "    def __init__(self):\n",
    "        self.name = input(\"Enter Name\")\n",
    "        self.age = int(input(\"Enter Age\"))\n",
    "        self.gender= input(\"Enter Gender\")\n",
    "        \n",
    "    def display_person_details(self):\n",
    "        print(\"Name: \", self.name)\n",
    "        print(\"Age: \", self.age)\n",
    "        print(\"Gender: \", self.gender)\n",
    "\n",
    "class Student(Person): # it inherit properties of Person\n",
    "    def __init__(self):\n",
    "        super().__init__()\n",
    "        # self.set_person_details()\n",
    "        # self.set_person_details()\n",
    "        self.roll_no = int(input(\"Roll Number\"))\n",
    "        self.marks = int(input(\"Marks\"))\n",
    "        \n",
    "    def display_student_details(self):\n",
    "        super().display_person_details\n",
    "        print(f\"Student Name = {self.name}\")\n",
    "        print(f\"Age = {self.age}\")\n",
    "        print(f\"Gender = {self.gender}\")\n",
    "        print(f\"Roll Number = {self.roll_no}\")\n",
    "        print(f\"Student Marks = {self.marks}\")\n",
    "        \n",
    "    \n",
    "    \n",
    "           \n",
    "x1=Student()\n",
    "x1.display_student_details()\n",
    "# s1.set_person_details()\n",
    "# s1.set_student_details()\n",
    "# s1.display_student_details()\n",
    "# print(s1.name)\n",
    "# print(s1.marks)\n"
   ]
  },
  {
   "cell_type": "markdown",
   "metadata": {},
   "source": [
    "# Super(). V/S self."
   ]
  },
  {
   "cell_type": "code",
   "execution_count": 18,
   "metadata": {},
   "outputs": [],
   "source": [
    "# Which to choose \n",
    "# Super().\n",
    "# or \n",
    "# self.\n",
    "\n",
    "# So Always use 2nd  self."
   ]
  },
  {
   "cell_type": "code",
   "execution_count": 19,
   "metadata": {},
   "outputs": [],
   "source": [
    "# Use super() when you want to call a method from the parent class."
   ]
  },
  {
   "cell_type": "code",
   "execution_count": 20,
   "metadata": {},
   "outputs": [],
   "source": [
    "# Use self when you want to access or modify the attributes or methods of the current class."
   ]
  },
  {
   "cell_type": "code",
   "execution_count": 24,
   "metadata": {},
   "outputs": [
    {
     "name": "stdout",
     "output_type": "stream",
     "text": [
      "Class D\n"
     ]
    }
   ],
   "source": [
    "class C:\n",
    "    def xyz(self):\n",
    "        print(\"Class C\")\n",
    "        \n",
    "class D(C):\n",
    "    def xyz(self):\n",
    "        print(\"Class D\")\n",
    "        \n",
    "    def returnState(self):\n",
    "        self.xyz()\n",
    "        \n",
    "x2=D()\n",
    "x2.returnState()  # Outputs: Class D"
   ]
  },
  {
   "cell_type": "code",
   "execution_count": 25,
   "metadata": {},
   "outputs": [
    {
     "name": "stdout",
     "output_type": "stream",
     "text": [
      "Class C\n"
     ]
    }
   ],
   "source": [
    "class C:\n",
    "    def xyz(self):\n",
    "        print(\"Class C\")\n",
    "        \n",
    "class D(C):\n",
    "    def xyz(self):\n",
    "        print(\"Class D\")\n",
    "        \n",
    "    def returnState(self):\n",
    "        super().xyz()\n",
    "        \n",
    "x2=D()\n",
    "x2.returnState()  # Outputs: Class c"
   ]
  },
  {
   "cell_type": "code",
   "execution_count": null,
   "metadata": {},
   "outputs": [],
   "source": []
  }
 ],
 "metadata": {
  "kernelspec": {
   "display_name": "Python 3",
   "language": "python",
   "name": "python3"
  },
  "language_info": {
   "codemirror_mode": {
    "name": "ipython",
    "version": 3
   },
   "file_extension": ".py",
   "mimetype": "text/x-python",
   "name": "python",
   "nbconvert_exporter": "python",
   "pygments_lexer": "ipython3",
   "version": "3.11.5"
  }
 },
 "nbformat": 4,
 "nbformat_minor": 2
}
