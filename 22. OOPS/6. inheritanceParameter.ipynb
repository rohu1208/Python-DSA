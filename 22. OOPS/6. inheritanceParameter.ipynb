{
 "cells": [
  {
   "cell_type": "code",
   "execution_count": 3,
   "metadata": {},
   "outputs": [],
   "source": [
    "# By Parameters"
   ]
  },
  {
   "cell_type": "code",
   "execution_count": 4,
   "metadata": {},
   "outputs": [
    {
     "name": "stdout",
     "output_type": "stream",
     "text": [
      "Student Name = Rohan\n",
      "Age = 11\n",
      "Gender = Male\n",
      "Roll Number = 3\n",
      "Student Marks = 56\n"
     ]
    }
   ],
   "source": [
    "# if forgot to set student\n",
    "# use init\n",
    "# if forgot to ask person details\n",
    "class Person:\n",
    "\n",
    "    def __init__(self,name,age,gender):\n",
    "        self.name = name\n",
    "        self.age = age\n",
    "        self.gender = gender\n",
    "        \n",
    "    def display_person_details(self):\n",
    "        print(\"Name: \", self.name)\n",
    "        print(\"Age: \", self.age)\n",
    "        print(\"Gender: \", self.gender)\n",
    "\n",
    "class Student(Person): # it inherit properties of Person\n",
    "    def __init__(self,name,age,gender,roll_no,marks):\n",
    "        super().__init__(name,age,gender)\n",
    "        # self.set_person_details()\n",
    "        # self.set_person_details()\n",
    "        self.roll_no = roll_no\n",
    "        self.marks = marks\n",
    "        \n",
    "    def display_student_details(self):\n",
    "        # super().display_person_details\n",
    "        print(f\"Student Name = {self.name}\")\n",
    "        print(f\"Age = {self.age}\")\n",
    "        print(f\"Gender = {self.gender}\")\n",
    "        print(f\"Roll Number = {self.roll_no}\")\n",
    "        print(f\"Student Marks = {self.marks}\")\n",
    "        \n",
    "    \n",
    "    \n",
    "           \n",
    "x1=Student(\"Rohan\",11,\"Male\",3,56)\n",
    "x1.display_student_details()\n",
    "# s1.set_person_details()\n",
    "# s1.set_student_details()\n",
    "# s1.display_student_details()\n",
    "# print(s1.name)\n",
    "# print(s1.marks)\n"
   ]
  },
  {
   "cell_type": "code",
   "execution_count": null,
   "metadata": {},
   "outputs": [],
   "source": []
  }
 ],
 "metadata": {
  "kernelspec": {
   "display_name": "Python 3",
   "language": "python",
   "name": "python3"
  },
  "language_info": {
   "codemirror_mode": {
    "name": "ipython",
    "version": 3
   },
   "file_extension": ".py",
   "mimetype": "text/x-python",
   "name": "python",
   "nbconvert_exporter": "python",
   "pygments_lexer": "ipython3",
   "version": "3.11.5"
  }
 },
 "nbformat": 4,
 "nbformat_minor": 2
}
