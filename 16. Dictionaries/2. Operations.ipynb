{
 "cells": [
  {
   "cell_type": "markdown",
   "metadata": {},
   "source": [
    "# Dictionary - iterations"
   ]
  },
  {
   "cell_type": "markdown",
   "metadata": {},
   "source": [
    "my_dict = {\"Physics\": 90, \"Chemistry\": 80, \"Maths\": 70, 4: 5}\n"
   ]
  },
  {
   "cell_type": "markdown",
   "metadata": {},
   "source": []
  },
  {
   "cell_type": "code",
   "execution_count": 1,
   "metadata": {},
   "outputs": [
    {
     "name": "stdout",
     "output_type": "stream",
     "text": [
      "dict_keys(['Physics', 'Chemistry', 'Maths', 4])\n"
     ]
    }
   ],
   "source": [
    "my_dict = {\"Physics\": 90, \"Chemistry\": 80, \"Maths\": 70, 4: 5}\n",
    "print(my_dict.keys()) \n",
    "# not list it's similar to list only so it is iterarable"
   ]
  },
  {
   "cell_type": "code",
   "execution_count": 2,
   "metadata": {},
   "outputs": [
    {
     "name": "stdout",
     "output_type": "stream",
     "text": [
      "Physics\n",
      "Chemistry\n",
      "Maths\n",
      "4\n"
     ]
    }
   ],
   "source": [
    "for k in my_dict.keys():\n",
    "    print(k)"
   ]
  },
  {
   "cell_type": "code",
   "execution_count": 3,
   "metadata": {},
   "outputs": [
    {
     "name": "stdout",
     "output_type": "stream",
     "text": [
      "90\n",
      "80\n",
      "70\n",
      "5\n"
     ]
    }
   ],
   "source": [
    "for v in my_dict.values():\n",
    "    print(v)"
   ]
  },
  {
   "cell_type": "code",
   "execution_count": 5,
   "metadata": {},
   "outputs": [
    {
     "name": "stdout",
     "output_type": "stream",
     "text": [
      "dict_items([('Physics', 90), ('Chemistry', 80), ('Maths', 70), (4, 5)])\n",
      "<class 'dict_items'>\n"
     ]
    }
   ],
   "source": [
    "print(my_dict.items())\n",
    "print(type(my_dict.items()))"
   ]
  },
  {
   "cell_type": "code",
   "execution_count": 7,
   "metadata": {},
   "outputs": [
    {
     "name": "stdout",
     "output_type": "stream",
     "text": [
      "('Physics', 90)\n",
      "('Chemistry', 80)\n",
      "('Maths', 70)\n",
      "(4, 5)\n"
     ]
    }
   ],
   "source": [
    "for d in my_dict.items():\n",
    "    print(d)"
   ]
  },
  {
   "cell_type": "code",
   "execution_count": 8,
   "metadata": {},
   "outputs": [
    {
     "name": "stdout",
     "output_type": "stream",
     "text": [
      "Physics\n",
      "Chemistry\n",
      "Maths\n",
      "4\n"
     ]
    }
   ],
   "source": [
    "for d in my_dict.items():\n",
    "    print(d[0])"
   ]
  },
  {
   "cell_type": "code",
   "execution_count": 11,
   "metadata": {},
   "outputs": [
    {
     "name": "stdout",
     "output_type": "stream",
     "text": [
      "Physics 90\n",
      "Chemistry 80\n",
      "Maths 70\n",
      "4 5\n"
     ]
    }
   ],
   "source": [
    "for k,v in my_dict.items():\n",
    "    print(k,v)"
   ]
  },
  {
   "cell_type": "code",
   "execution_count": 13,
   "metadata": {},
   "outputs": [
    {
     "name": "stdout",
     "output_type": "stream",
     "text": [
      "Physics\n",
      "Chemistry\n",
      "Maths\n",
      "4\n"
     ]
    }
   ],
   "source": [
    "for i in my_dict:\n",
    "    print(i)  # it will print only keys-by default"
   ]
  },
  {
   "cell_type": "code",
   "execution_count": null,
   "metadata": {},
   "outputs": [
    {
     "name": "stdout",
     "output_type": "stream",
     "text": [
      "Physics - 90\n",
      "Chemistry - 80\n",
      "Maths - 70\n",
      "4 - 5\n"
     ]
    }
   ],
   "source": [
    "# for key value\n",
    "for k in my_dict:\n",
    "    print(k,'-' ,my_dict[k])"
   ]
  },
  {
   "cell_type": "code",
   "execution_count": 16,
   "metadata": {},
   "outputs": [],
   "source": [
    "# Getting Values "
   ]
  },
  {
   "cell_type": "markdown",
   "metadata": {},
   "source": [
    "# Getting Values "
   ]
  },
  {
   "cell_type": "code",
   "execution_count": 17,
   "metadata": {},
   "outputs": [
    {
     "name": "stdout",
     "output_type": "stream",
     "text": [
      "90\n"
     ]
    }
   ],
   "source": [
    "my_dict = {\"Physics\": 90, \"Chemistry\": 80, \"Maths\": 70, 4: 5}\n",
    "print(my_dict[\"Physics\"])"
   ]
  },
  {
   "cell_type": "code",
   "execution_count": 18,
   "metadata": {},
   "outputs": [
    {
     "name": "stdout",
     "output_type": "stream",
     "text": [
      "90\n"
     ]
    }
   ],
   "source": [
    "# To Fetch Specific Index is O(1)\n",
    "print(my_dict.get(\"Physics\"))"
   ]
  },
  {
   "cell_type": "code",
   "execution_count": 1,
   "metadata": {},
   "outputs": [
    {
     "name": "stdout",
     "output_type": "stream",
     "text": [
      "{'Physics': 56, 'Chemistry': 12, 'English': 99, 'Computer': 22, 'Maths': 94}\n"
     ]
    }
   ],
   "source": [
    "my_dict = {\n",
    "    \"Physics\": 56,\n",
    "    \"Chemistry\": 12,\n",
    "    \"English\": 99,\n",
    "    \"Computer\": 22,\n",
    "    \"Maths\": 94,\n",
    "}\n",
    "print(my_dict)\n"
   ]
  },
  {
   "cell_type": "code",
   "execution_count": 2,
   "metadata": {},
   "outputs": [
    {
     "name": "stdout",
     "output_type": "stream",
     "text": [
      "{'Physics': 45, 'Chemistry': 12, 'English': 99, 'Computer': 22, 'Maths': 94, 'SST': 45, 'hajkdhwa': 998}\n"
     ]
    }
   ],
   "source": [
    "# Add/Update\n",
    "my_dict.update({\"SST\": 45})\n",
    "my_dict.update({\"Physics\": 45, \"hajkdhwa\": 998})\n",
    "print(my_dict)"
   ]
  },
  {
   "cell_type": "code",
   "execution_count": 3,
   "metadata": {},
   "outputs": [],
   "source": [
    "my_dict[\"Computer\"] = 91"
   ]
  },
  {
   "cell_type": "code",
   "execution_count": 4,
   "metadata": {},
   "outputs": [
    {
     "name": "stdout",
     "output_type": "stream",
     "text": [
      "{'Chemistry': 12, 'English': 99, 'Computer': 91, 'Maths': 94, 'SST': 45, 'hajkdhwa': 998}\n"
     ]
    }
   ],
   "source": [
    "# delete\n",
    "del my_dict[\"Physics\"]\n",
    "print(my_dict)"
   ]
  },
  {
   "cell_type": "code",
   "execution_count": 5,
   "metadata": {},
   "outputs": [
    {
     "name": "stdout",
     "output_type": "stream",
     "text": [
      "12\n",
      "{'English': 99, 'Computer': 91, 'Maths': 94, 'SST': 45, 'hajkdhwa': 998}\n"
     ]
    }
   ],
   "source": [
    "x = my_dict.pop(\"Chemistry\")\n",
    "print(x)\n",
    "print(my_dict)\n"
   ]
  },
  {
   "cell_type": "code",
   "execution_count": 6,
   "metadata": {},
   "outputs": [
    {
     "name": "stdout",
     "output_type": "stream",
     "text": [
      "{}\n"
     ]
    }
   ],
   "source": [
    "my_dict.clear()\n",
    "print(my_dict)"
   ]
  },
  {
   "cell_type": "code",
   "execution_count": 11,
   "metadata": {},
   "outputs": [
    {
     "name": "stdout",
     "output_type": "stream",
     "text": [
      "{'Physics': 100, 'Chemistry': 12, 'English': 99, 'Computer': 22, 'Maths': 94}\n"
     ]
    }
   ],
   "source": [
    "# Copying\n",
    "my_dict = {\n",
    "    \"Physics\": 56,\n",
    "    \"Chemistry\": 12,\n",
    "    \"English\": 99,\n",
    "    \"Computer\": 22,\n",
    "    \"Maths\": 94,\n",
    "}\n",
    "d2 = my_dict\n",
    "d2[\"Physics\"] = 100\n",
    "print(my_dict)\n",
    "\n",
    "\n",
    "# To Avoid this mistake use copy method\n",
    "# as it is Mutable"
   ]
  },
  {
   "cell_type": "code",
   "execution_count": 12,
   "metadata": {},
   "outputs": [
    {
     "name": "stdout",
     "output_type": "stream",
     "text": [
      "{'Physics': 56, 'Chemistry': 12, 'English': 99, 'Computer': 22, 'Maths': 94}\n",
      "{'Physics': 56, 'Chemistry': 12, 'English': 99, 'Computer': 22, 'Maths': 94}\n",
      "{'Physics': 100, 'Chemistry': 12, 'English': 99, 'Computer': 22, 'Maths': 94}\n"
     ]
    }
   ],
   "source": [
    "my_dict = {\n",
    "    \"Physics\": 56,\n",
    "    \"Chemistry\": 12,\n",
    "    \"English\": 99,\n",
    "    \"Computer\": 22,\n",
    "    \"Maths\": 94,\n",
    "}\n",
    "d2 = my_dict.copy()\n",
    "print(d2)  # Output: {'Physics': 56, 'Chemistry': 12\n",
    "d2[\"Physics\"] = 100\n",
    "print(my_dict)  # Output: {'Physics': 56, 'Chemistry':'\"2. Operations.ipynb\"\n",
    "print(d2)  # Output: {'Physics': 100, 'Chemistry': 12"
   ]
  },
  {
   "cell_type": "code",
   "execution_count": null,
   "metadata": {},
   "outputs": [],
   "source": []
  }
 ],
 "metadata": {
  "kernelspec": {
   "display_name": "Python 3",
   "language": "python",
   "name": "python3"
  },
  "language_info": {
   "codemirror_mode": {
    "name": "ipython",
    "version": 3
   },
   "file_extension": ".py",
   "mimetype": "text/x-python",
   "name": "python",
   "nbconvert_exporter": "python",
   "pygments_lexer": "ipython3",
   "version": "3.11.5"
  }
 },
 "nbformat": 4,
 "nbformat_minor": 2
}
